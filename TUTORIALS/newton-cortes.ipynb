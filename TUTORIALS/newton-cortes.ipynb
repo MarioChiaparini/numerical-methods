{
 "cells": [
  {
   "cell_type": "markdown",
   "id": "391d4eea-5952-494c-ac08-455cfa9622c8",
   "metadata": {
    "tags": []
   },
   "source": [
    "## Numerical Integration - Newton-Cotes Method"
   ]
  },
  {
   "cell_type": "code",
   "execution_count": 1,
   "id": "d6f00d7f-d635-4b2c-87ed-7394160ae822",
   "metadata": {},
   "outputs": [],
   "source": [
    "using MTH229\n",
    "using Plots\n",
    "using Printf\n",
    "using SymPy"
   ]
  },
  {
   "cell_type": "code",
   "execution_count": null,
   "id": "4a480ec5-9fc8-43d7-ad1a-b73e368fd753",
   "metadata": {},
   "outputs": [],
   "source": []
  },
  {
   "cell_type": "code",
   "execution_count": null,
   "id": "86bcade2-cc36-4251-938a-3f1c728af355",
   "metadata": {},
   "outputs": [],
   "source": []
  },
  {
   "cell_type": "code",
   "execution_count": null,
   "id": "4c4c04a6-706a-455f-b558-8b3ff72eb793",
   "metadata": {},
   "outputs": [],
   "source": []
  },
  {
   "cell_type": "code",
   "execution_count": null,
   "id": "4650673d-8de1-4a24-9fc4-fe9e36e7870a",
   "metadata": {},
   "outputs": [],
   "source": []
  },
  {
   "cell_type": "code",
   "execution_count": null,
   "id": "f8270092-2100-4850-8043-4a02318d2a1c",
   "metadata": {},
   "outputs": [],
   "source": []
  }
 ],
 "metadata": {
  "kernelspec": {
   "display_name": "Julia 1.7.0",
   "language": "julia",
   "name": "julia-1.7"
  },
  "language_info": {
   "file_extension": ".jl",
   "mimetype": "application/julia",
   "name": "julia",
   "version": "1.7.0"
  }
 },
 "nbformat": 4,
 "nbformat_minor": 5
}
