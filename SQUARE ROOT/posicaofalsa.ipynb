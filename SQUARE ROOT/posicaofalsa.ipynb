{
 "cells": [
  {
   "cell_type": "markdown",
   "id": "b0db7d50-38da-4d0d-8bcc-58eb7bffa9ae",
   "metadata": {},
   "source": [
    "## Root Finding - Regula Falsi Method"
   ]
  },
  {
   "cell_type": "code",
   "execution_count": 57,
   "id": "7384cc78-6086-45fb-8076-73185d01951e",
   "metadata": {},
   "outputs": [],
   "source": [
    "using MTH229\n",
    "using Plots"
   ]
  },
  {
   "cell_type": "code",
   "execution_count": 56,
   "id": "9cc6b16a-9090-4c73-9bb0-348306890877",
   "metadata": {},
   "outputs": [
    {
     "data": {
      "text/plain": [
       "falsi (generic function with 5 methods)"
      ]
     },
     "execution_count": 56,
     "metadata": {},
     "output_type": "execute_result"
    }
   ],
   "source": [
    "function falsi(f::Function, x1::Number, x2::Number, \n",
    "               maxiter::Integer=300, ey::AbstractFloat=1e-7, ex::AbstractFloat=1e-7)\n",
    "    fx1 = f(x1)\n",
    "    fx2 = f(x2)\n",
    "    fx1*fx2 <= 0 || error(\"The functions do not have a real root solution.\")\n",
    "    iter = 0\n",
    "    local xk\n",
    "    while x1 - x2 > ex\n",
    "        iter += 1\n",
    "        iter != maxiter\n",
    "        xk = ((x1*fx2)-(x2*fx1))/(fx1 - fx2)\n",
    "        fxk = f(xk)\n",
    "        if fx1*fxk > 0\n",
    "            x1 = xk\n",
    "            fx1 = fxk\n",
    "        else\n",
    "            x2 = xk\n",
    "        elseif \n",
    "        end\n",
    "    end\n",
    "    return xk\n",
    "end    "
   ]
  },
  {
   "cell_type": "code",
   "execution_count": 53,
   "id": "6b86d9d8-6450-475d-ac35-424b4381a21f",
   "metadata": {},
   "outputs": [
    {
     "ename": "LoadError",
     "evalue": "UndefVarError: xk not defined",
     "output_type": "error",
     "traceback": [
      "UndefVarError: xk not defined",
      "",
      "Stacktrace:",
      " [1] falsi(f::typeof(f), x1::Int64, x2::Int64, maxiter::Int64, ey::Float64, ex::Float64)",
      "   @ Main ./In[52]:22",
      " [2] falsi(f::Function, x1::Int64, x2::Int64)",
      "   @ Main ./In[52]:3",
      " [3] top-level scope",
      "   @ In[53]:1",
      " [4] eval",
      "   @ ./boot.jl:373 [inlined]",
      " [5] include_string(mapexpr::typeof(REPL.softscope), mod::Module, code::String, filename::String)",
      "   @ Base ./loading.jl:1196"
     ]
    }
   ],
   "source": [
    "(f(x)=x^3-23; x1=1; x2=5; falsi(f,x1,x2))"
   ]
  },
  {
   "cell_type": "code",
   "execution_count": 20,
   "id": "acd46913-ef9e-4ace-a9af-a2eedade5627",
   "metadata": {},
   "outputs": [
    {
     "data": {
      "image/svg+xml": [
       "<?xml version=\"1.0\" encoding=\"utf-8\"?>\n",
       "<svg xmlns=\"http://www.w3.org/2000/svg\" xmlns:xlink=\"http://www.w3.org/1999/xlink\" width=\"600\" height=\"400\" viewBox=\"0 0 2400 1600\">\n",
       "<defs>\n",
       "  <clipPath id=\"clip520\">\n",
       "    <rect x=\"0\" y=\"0\" width=\"2400\" height=\"1600\"/>\n",
       "  </clipPath>\n",
       "</defs>\n",
       "<path clip-path=\"url(#clip520)\" d=\"\n",
       "M0 1600 L2400 1600 L2400 0 L0 0  Z\n",
       "  \" fill=\"#ffffff\" fill-rule=\"evenodd\" fill-opacity=\"1\"/>\n",
       "<defs>\n",
       "  <clipPath id=\"clip521\">\n",
       "    <rect x=\"480\" y=\"0\" width=\"1681\" height=\"1600\"/>\n",
       "  </clipPath>\n",
       "</defs>\n",
       "<path clip-path=\"url(#clip520)\" d=\"\n",
       "M147.478 1486.45 L2352.76 1486.45 L2352.76 47.2441 L147.478 47.2441  Z\n",
       "  \" fill=\"#ffffff\" fill-rule=\"evenodd\" fill-opacity=\"1\"/>\n",
       "<defs>\n",
       "  <clipPath id=\"clip522\">\n",
       "    <rect x=\"147\" y=\"47\" width=\"2206\" height=\"1440\"/>\n",
       "  </clipPath>\n",
       "</defs>\n",
       "<polyline clip-path=\"url(#clip522)\" style=\"stroke:#000000; stroke-linecap:butt; stroke-linejoin:round; stroke-width:2; stroke-opacity:0.1; fill:none\" points=\"\n",
       "  209.891,1486.45 209.891,47.2441 \n",
       "  \"/>\n",
       "<polyline clip-path=\"url(#clip522)\" style=\"stroke:#000000; stroke-linecap:butt; stroke-linejoin:round; stroke-width:2; stroke-opacity:0.1; fill:none\" points=\"\n",
       "  730.004,1486.45 730.004,47.2441 \n",
       "  \"/>\n",
       "<polyline clip-path=\"url(#clip522)\" style=\"stroke:#000000; stroke-linecap:butt; stroke-linejoin:round; stroke-width:2; stroke-opacity:0.1; fill:none\" points=\"\n",
       "  1250.12,1486.45 1250.12,47.2441 \n",
       "  \"/>\n",
       "<polyline clip-path=\"url(#clip522)\" style=\"stroke:#000000; stroke-linecap:butt; stroke-linejoin:round; stroke-width:2; stroke-opacity:0.1; fill:none\" points=\"\n",
       "  1770.23,1486.45 1770.23,47.2441 \n",
       "  \"/>\n",
       "<polyline clip-path=\"url(#clip522)\" style=\"stroke:#000000; stroke-linecap:butt; stroke-linejoin:round; stroke-width:2; stroke-opacity:0.1; fill:none\" points=\"\n",
       "  2290.34,1486.45 2290.34,47.2441 \n",
       "  \"/>\n",
       "<polyline clip-path=\"url(#clip520)\" style=\"stroke:#000000; stroke-linecap:butt; stroke-linejoin:round; stroke-width:4; stroke-opacity:1; fill:none\" points=\"\n",
       "  147.478,1486.45 2352.76,1486.45 \n",
       "  \"/>\n",
       "<polyline clip-path=\"url(#clip520)\" style=\"stroke:#000000; stroke-linecap:butt; stroke-linejoin:round; stroke-width:4; stroke-opacity:1; fill:none\" points=\"\n",
       "  209.891,1486.45 209.891,1467.55 \n",
       "  \"/>\n",
       "<polyline clip-path=\"url(#clip520)\" style=\"stroke:#000000; stroke-linecap:butt; stroke-linejoin:round; stroke-width:4; stroke-opacity:1; fill:none\" points=\"\n",
       "  730.004,1486.45 730.004,1467.55 \n",
       "  \"/>\n",
       "<polyline clip-path=\"url(#clip520)\" style=\"stroke:#000000; stroke-linecap:butt; stroke-linejoin:round; stroke-width:4; stroke-opacity:1; fill:none\" points=\"\n",
       "  1250.12,1486.45 1250.12,1467.55 \n",
       "  \"/>\n",
       "<polyline clip-path=\"url(#clip520)\" style=\"stroke:#000000; stroke-linecap:butt; stroke-linejoin:round; stroke-width:4; stroke-opacity:1; fill:none\" points=\"\n",
       "  1770.23,1486.45 1770.23,1467.55 \n",
       "  \"/>\n",
       "<polyline clip-path=\"url(#clip520)\" style=\"stroke:#000000; stroke-linecap:butt; stroke-linejoin:round; stroke-width:4; stroke-opacity:1; fill:none\" points=\"\n",
       "  2290.34,1486.45 2290.34,1467.55 \n",
       "  \"/>\n",
       "<path clip-path=\"url(#clip520)\" d=\"M187.276 1517.37 Q183.665 1517.37 181.836 1520.93 Q180.03 1524.47 180.03 1531.6 Q180.03 1538.71 181.836 1542.27 Q183.665 1545.82 187.276 1545.82 Q190.91 1545.82 192.716 1542.27 Q194.544 1538.71 194.544 1531.6 Q194.544 1524.47 192.716 1520.93 Q190.91 1517.37 187.276 1517.37 M187.276 1513.66 Q193.086 1513.66 196.142 1518.27 Q199.22 1522.85 199.22 1531.6 Q199.22 1540.33 196.142 1544.94 Q193.086 1549.52 187.276 1549.52 Q181.466 1549.52 178.387 1544.94 Q175.331 1540.33 175.331 1531.6 Q175.331 1522.85 178.387 1518.27 Q181.466 1513.66 187.276 1513.66 Z\" fill=\"#000000\" fill-rule=\"evenodd\" fill-opacity=\"1\" /><path clip-path=\"url(#clip520)\" d=\"M207.438 1542.97 L212.322 1542.97 L212.322 1548.85 L207.438 1548.85 L207.438 1542.97 Z\" fill=\"#000000\" fill-rule=\"evenodd\" fill-opacity=\"1\" /><path clip-path=\"url(#clip520)\" d=\"M232.507 1517.37 Q228.896 1517.37 227.067 1520.93 Q225.262 1524.47 225.262 1531.6 Q225.262 1538.71 227.067 1542.27 Q228.896 1545.82 232.507 1545.82 Q236.141 1545.82 237.947 1542.27 Q239.776 1538.71 239.776 1531.6 Q239.776 1524.47 237.947 1520.93 Q236.141 1517.37 232.507 1517.37 M232.507 1513.66 Q238.317 1513.66 241.373 1518.27 Q244.451 1522.85 244.451 1531.6 Q244.451 1540.33 241.373 1544.94 Q238.317 1549.52 232.507 1549.52 Q226.697 1549.52 223.618 1544.94 Q220.563 1540.33 220.563 1531.6 Q220.563 1522.85 223.618 1518.27 Q226.697 1513.66 232.507 1513.66 Z\" fill=\"#000000\" fill-rule=\"evenodd\" fill-opacity=\"1\" /><path clip-path=\"url(#clip520)\" d=\"M707.886 1517.37 Q704.275 1517.37 702.446 1520.93 Q700.641 1524.47 700.641 1531.6 Q700.641 1538.71 702.446 1542.27 Q704.275 1545.82 707.886 1545.82 Q711.52 1545.82 713.326 1542.27 Q715.155 1538.71 715.155 1531.6 Q715.155 1524.47 713.326 1520.93 Q711.52 1517.37 707.886 1517.37 M707.886 1513.66 Q713.696 1513.66 716.752 1518.27 Q719.831 1522.85 719.831 1531.6 Q719.831 1540.33 716.752 1544.94 Q713.696 1549.52 707.886 1549.52 Q702.076 1549.52 698.997 1544.94 Q695.942 1540.33 695.942 1531.6 Q695.942 1522.85 698.997 1518.27 Q702.076 1513.66 707.886 1513.66 Z\" fill=\"#000000\" fill-rule=\"evenodd\" fill-opacity=\"1\" /><path clip-path=\"url(#clip520)\" d=\"M728.048 1542.97 L732.932 1542.97 L732.932 1548.85 L728.048 1548.85 L728.048 1542.97 Z\" fill=\"#000000\" fill-rule=\"evenodd\" fill-opacity=\"1\" /><path clip-path=\"url(#clip520)\" d=\"M743.164 1514.29 L761.52 1514.29 L761.52 1518.22 L747.446 1518.22 L747.446 1526.7 Q748.465 1526.35 749.483 1526.19 Q750.502 1526 751.52 1526 Q757.307 1526 760.687 1529.17 Q764.066 1532.34 764.066 1537.76 Q764.066 1543.34 760.594 1546.44 Q757.122 1549.52 750.803 1549.52 Q748.627 1549.52 746.358 1549.15 Q744.113 1548.78 741.706 1548.04 L741.706 1543.34 Q743.789 1544.47 746.011 1545.03 Q748.233 1545.58 750.71 1545.58 Q754.715 1545.58 757.053 1543.48 Q759.391 1541.37 759.391 1537.76 Q759.391 1534.15 757.053 1532.04 Q754.715 1529.94 750.71 1529.94 Q748.835 1529.94 746.96 1530.35 Q745.108 1530.77 743.164 1531.65 L743.164 1514.29 Z\" fill=\"#000000\" fill-rule=\"evenodd\" fill-opacity=\"1\" /><path clip-path=\"url(#clip520)\" d=\"M1217.27 1544.91 L1224.91 1544.91 L1224.91 1518.55 L1216.6 1520.21 L1216.6 1515.95 L1224.86 1514.29 L1229.54 1514.29 L1229.54 1544.91 L1237.18 1544.91 L1237.18 1548.85 L1217.27 1548.85 L1217.27 1544.91 Z\" fill=\"#000000\" fill-rule=\"evenodd\" fill-opacity=\"1\" /><path clip-path=\"url(#clip520)\" d=\"M1246.62 1542.97 L1251.51 1542.97 L1251.51 1548.85 L1246.62 1548.85 L1246.62 1542.97 Z\" fill=\"#000000\" fill-rule=\"evenodd\" fill-opacity=\"1\" /><path clip-path=\"url(#clip520)\" d=\"M1271.69 1517.37 Q1268.08 1517.37 1266.25 1520.93 Q1264.45 1524.47 1264.45 1531.6 Q1264.45 1538.71 1266.25 1542.27 Q1268.08 1545.82 1271.69 1545.82 Q1275.33 1545.82 1277.13 1542.27 Q1278.96 1538.71 1278.96 1531.6 Q1278.96 1524.47 1277.13 1520.93 Q1275.33 1517.37 1271.69 1517.37 M1271.69 1513.66 Q1277.5 1513.66 1280.56 1518.27 Q1283.64 1522.85 1283.64 1531.6 Q1283.64 1540.33 1280.56 1544.94 Q1277.5 1549.52 1271.69 1549.52 Q1265.88 1549.52 1262.8 1544.94 Q1259.75 1540.33 1259.75 1531.6 Q1259.75 1522.85 1262.8 1518.27 Q1265.88 1513.66 1271.69 1513.66 Z\" fill=\"#000000\" fill-rule=\"evenodd\" fill-opacity=\"1\" /><path clip-path=\"url(#clip520)\" d=\"M1737.88 1544.91 L1745.52 1544.91 L1745.52 1518.55 L1737.21 1520.21 L1737.21 1515.95 L1745.47 1514.29 L1750.15 1514.29 L1750.15 1544.91 L1757.79 1544.91 L1757.79 1548.85 L1737.88 1548.85 L1737.88 1544.91 Z\" fill=\"#000000\" fill-rule=\"evenodd\" fill-opacity=\"1\" /><path clip-path=\"url(#clip520)\" d=\"M1767.23 1542.97 L1772.12 1542.97 L1772.12 1548.85 L1767.23 1548.85 L1767.23 1542.97 Z\" fill=\"#000000\" fill-rule=\"evenodd\" fill-opacity=\"1\" /><path clip-path=\"url(#clip520)\" d=\"M1782.35 1514.29 L1800.7 1514.29 L1800.7 1518.22 L1786.63 1518.22 L1786.63 1526.7 Q1787.65 1526.35 1788.67 1526.19 Q1789.69 1526 1790.7 1526 Q1796.49 1526 1799.87 1529.17 Q1803.25 1532.34 1803.25 1537.76 Q1803.25 1543.34 1799.78 1546.44 Q1796.31 1549.52 1789.99 1549.52 Q1787.81 1549.52 1785.54 1549.15 Q1783.3 1548.78 1780.89 1548.04 L1780.89 1543.34 Q1782.97 1544.47 1785.19 1545.03 Q1787.42 1545.58 1789.89 1545.58 Q1793.9 1545.58 1796.24 1543.48 Q1798.57 1541.37 1798.57 1537.76 Q1798.57 1534.15 1796.24 1532.04 Q1793.9 1529.94 1789.89 1529.94 Q1788.02 1529.94 1786.14 1530.35 Q1784.29 1530.77 1782.35 1531.65 L1782.35 1514.29 Z\" fill=\"#000000\" fill-rule=\"evenodd\" fill-opacity=\"1\" /><path clip-path=\"url(#clip520)\" d=\"M2261.58 1544.91 L2277.9 1544.91 L2277.9 1548.85 L2255.96 1548.85 L2255.96 1544.91 Q2258.62 1542.16 2263.2 1537.53 Q2267.81 1532.88 2268.99 1531.53 Q2271.23 1529.01 2272.11 1527.27 Q2273.02 1525.51 2273.02 1523.82 Q2273.02 1521.07 2271.07 1519.33 Q2269.15 1517.6 2266.05 1517.6 Q2263.85 1517.6 2261.4 1518.36 Q2258.97 1519.13 2256.19 1520.68 L2256.19 1515.95 Q2259.01 1514.82 2261.47 1514.24 Q2263.92 1513.66 2265.96 1513.66 Q2271.33 1513.66 2274.52 1516.35 Q2277.72 1519.03 2277.72 1523.52 Q2277.72 1525.65 2276.9 1527.57 Q2276.12 1529.47 2274.01 1532.07 Q2273.43 1532.74 2270.33 1535.95 Q2267.23 1539.15 2261.58 1544.91 Z\" fill=\"#000000\" fill-rule=\"evenodd\" fill-opacity=\"1\" /><path clip-path=\"url(#clip520)\" d=\"M2287.72 1542.97 L2292.6 1542.97 L2292.6 1548.85 L2287.72 1548.85 L2287.72 1542.97 Z\" fill=\"#000000\" fill-rule=\"evenodd\" fill-opacity=\"1\" /><path clip-path=\"url(#clip520)\" d=\"M2312.78 1517.37 Q2309.17 1517.37 2307.34 1520.93 Q2305.54 1524.47 2305.54 1531.6 Q2305.54 1538.71 2307.34 1542.27 Q2309.17 1545.82 2312.78 1545.82 Q2316.42 1545.82 2318.22 1542.27 Q2320.05 1538.71 2320.05 1531.6 Q2320.05 1524.47 2318.22 1520.93 Q2316.42 1517.37 2312.78 1517.37 M2312.78 1513.66 Q2318.59 1513.66 2321.65 1518.27 Q2324.73 1522.85 2324.73 1531.6 Q2324.73 1540.33 2321.65 1544.94 Q2318.59 1549.52 2312.78 1549.52 Q2306.97 1549.52 2303.9 1544.94 Q2300.84 1540.33 2300.84 1531.6 Q2300.84 1522.85 2303.9 1518.27 Q2306.97 1513.66 2312.78 1513.66 Z\" fill=\"#000000\" fill-rule=\"evenodd\" fill-opacity=\"1\" /><polyline clip-path=\"url(#clip522)\" style=\"stroke:#000000; stroke-linecap:butt; stroke-linejoin:round; stroke-width:2; stroke-opacity:0.1; fill:none\" points=\"\n",
       "  147.478,1445.72 2352.76,1445.72 \n",
       "  \"/>\n",
       "<polyline clip-path=\"url(#clip522)\" style=\"stroke:#000000; stroke-linecap:butt; stroke-linejoin:round; stroke-width:2; stroke-opacity:0.1; fill:none\" points=\"\n",
       "  147.478,1177 2352.76,1177 \n",
       "  \"/>\n",
       "<polyline clip-path=\"url(#clip522)\" style=\"stroke:#000000; stroke-linecap:butt; stroke-linejoin:round; stroke-width:2; stroke-opacity:0.1; fill:none\" points=\"\n",
       "  147.478,908.282 2352.76,908.282 \n",
       "  \"/>\n",
       "<polyline clip-path=\"url(#clip522)\" style=\"stroke:#000000; stroke-linecap:butt; stroke-linejoin:round; stroke-width:2; stroke-opacity:0.1; fill:none\" points=\"\n",
       "  147.478,639.565 2352.76,639.565 \n",
       "  \"/>\n",
       "<polyline clip-path=\"url(#clip522)\" style=\"stroke:#000000; stroke-linecap:butt; stroke-linejoin:round; stroke-width:2; stroke-opacity:0.1; fill:none\" points=\"\n",
       "  147.478,370.848 2352.76,370.848 \n",
       "  \"/>\n",
       "<polyline clip-path=\"url(#clip522)\" style=\"stroke:#000000; stroke-linecap:butt; stroke-linejoin:round; stroke-width:2; stroke-opacity:0.1; fill:none\" points=\"\n",
       "  147.478,102.131 2352.76,102.131 \n",
       "  \"/>\n",
       "<polyline clip-path=\"url(#clip520)\" style=\"stroke:#000000; stroke-linecap:butt; stroke-linejoin:round; stroke-width:4; stroke-opacity:1; fill:none\" points=\"\n",
       "  147.478,1486.45 147.478,47.2441 \n",
       "  \"/>\n",
       "<polyline clip-path=\"url(#clip520)\" style=\"stroke:#000000; stroke-linecap:butt; stroke-linejoin:round; stroke-width:4; stroke-opacity:1; fill:none\" points=\"\n",
       "  147.478,1445.72 166.376,1445.72 \n",
       "  \"/>\n",
       "<polyline clip-path=\"url(#clip520)\" style=\"stroke:#000000; stroke-linecap:butt; stroke-linejoin:round; stroke-width:4; stroke-opacity:1; fill:none\" points=\"\n",
       "  147.478,1177 166.376,1177 \n",
       "  \"/>\n",
       "<polyline clip-path=\"url(#clip520)\" style=\"stroke:#000000; stroke-linecap:butt; stroke-linejoin:round; stroke-width:4; stroke-opacity:1; fill:none\" points=\"\n",
       "  147.478,908.282 166.376,908.282 \n",
       "  \"/>\n",
       "<polyline clip-path=\"url(#clip520)\" style=\"stroke:#000000; stroke-linecap:butt; stroke-linejoin:round; stroke-width:4; stroke-opacity:1; fill:none\" points=\"\n",
       "  147.478,639.565 166.376,639.565 \n",
       "  \"/>\n",
       "<polyline clip-path=\"url(#clip520)\" style=\"stroke:#000000; stroke-linecap:butt; stroke-linejoin:round; stroke-width:4; stroke-opacity:1; fill:none\" points=\"\n",
       "  147.478,370.848 166.376,370.848 \n",
       "  \"/>\n",
       "<polyline clip-path=\"url(#clip520)\" style=\"stroke:#000000; stroke-linecap:butt; stroke-linejoin:round; stroke-width:4; stroke-opacity:1; fill:none\" points=\"\n",
       "  147.478,102.131 166.376,102.131 \n",
       "  \"/>\n",
       "<path clip-path=\"url(#clip520)\" d=\"M50.9921 1446.17 L80.6679 1446.17 L80.6679 1450.1 L50.9921 1450.1 L50.9921 1446.17 Z\" fill=\"#000000\" fill-rule=\"evenodd\" fill-opacity=\"1\" /><path clip-path=\"url(#clip520)\" d=\"M91.5706 1459.06 L99.2095 1459.06 L99.2095 1432.69 L90.8993 1434.36 L90.8993 1430.1 L99.1632 1428.44 L103.839 1428.44 L103.839 1459.06 L111.478 1459.06 L111.478 1463 L91.5706 1463 L91.5706 1459.06 Z\" fill=\"#000000\" fill-rule=\"evenodd\" fill-opacity=\"1\" /><path clip-path=\"url(#clip520)\" d=\"M99.5335 1162.8 Q95.9224 1162.8 94.0937 1166.36 Q92.2882 1169.9 92.2882 1177.03 Q92.2882 1184.14 94.0937 1187.7 Q95.9224 1191.25 99.5335 1191.25 Q103.168 1191.25 104.973 1187.7 Q106.802 1184.14 106.802 1177.03 Q106.802 1169.9 104.973 1166.36 Q103.168 1162.8 99.5335 1162.8 M99.5335 1159.09 Q105.344 1159.09 108.399 1163.7 Q111.478 1168.28 111.478 1177.03 Q111.478 1185.76 108.399 1190.37 Q105.344 1194.95 99.5335 1194.95 Q93.7234 1194.95 90.6447 1190.37 Q87.5892 1185.76 87.5892 1177.03 Q87.5892 1168.28 90.6447 1163.7 Q93.7234 1159.09 99.5335 1159.09 Z\" fill=\"#000000\" fill-rule=\"evenodd\" fill-opacity=\"1\" /><path clip-path=\"url(#clip520)\" d=\"M91.5706 921.627 L99.2095 921.627 L99.2095 895.261 L90.8993 896.928 L90.8993 892.668 L99.1632 891.002 L103.839 891.002 L103.839 921.627 L111.478 921.627 L111.478 925.562 L91.5706 925.562 L91.5706 921.627 Z\" fill=\"#000000\" fill-rule=\"evenodd\" fill-opacity=\"1\" /><path clip-path=\"url(#clip520)\" d=\"M95.1586 652.91 L111.478 652.91 L111.478 656.845 L89.5336 656.845 L89.5336 652.91 Q92.1956 650.155 96.7789 645.525 Q101.385 640.873 102.566 639.53 Q104.811 637.007 105.691 635.271 Q106.594 633.512 106.594 631.822 Q106.594 629.067 104.649 627.331 Q102.728 625.595 99.6261 625.595 Q97.4271 625.595 94.9734 626.359 Q92.5428 627.123 89.7651 628.674 L89.7651 623.951 Q92.5891 622.817 95.0428 622.238 Q97.4965 621.66 99.5335 621.66 Q104.904 621.66 108.098 624.345 Q111.293 627.03 111.293 631.521 Q111.293 633.65 110.483 635.572 Q109.696 637.47 107.589 640.062 Q107.01 640.734 103.909 643.951 Q100.807 647.146 95.1586 652.91 Z\" fill=\"#000000\" fill-rule=\"evenodd\" fill-opacity=\"1\" /><path clip-path=\"url(#clip520)\" d=\"M104.348 369.494 Q107.705 370.211 109.58 372.48 Q111.478 374.748 111.478 378.082 Q111.478 383.197 107.959 385.998 Q104.441 388.799 97.9595 388.799 Q95.7836 388.799 93.4688 388.359 Q91.1771 387.943 88.7234 387.086 L88.7234 382.572 Q90.6678 383.707 92.9826 384.285 Q95.2974 384.864 97.8206 384.864 Q102.219 384.864 104.51 383.128 Q106.825 381.392 106.825 378.082 Q106.825 375.026 104.672 373.313 Q102.543 371.577 98.7234 371.577 L94.6956 371.577 L94.6956 367.734 L98.9085 367.734 Q102.358 367.734 104.186 366.369 Q106.015 364.98 106.015 362.387 Q106.015 359.725 104.117 358.313 Q102.242 356.878 98.7234 356.878 Q96.8021 356.878 94.603 357.295 Q92.4039 357.711 89.7651 358.591 L89.7651 354.424 Q92.4271 353.684 94.7419 353.313 Q97.0798 352.943 99.14 352.943 Q104.464 352.943 107.566 355.373 Q110.668 357.781 110.668 361.901 Q110.668 364.771 109.024 366.762 Q107.381 368.73 104.348 369.494 Z\" fill=\"#000000\" fill-rule=\"evenodd\" fill-opacity=\"1\" /><path clip-path=\"url(#clip520)\" d=\"M101.895 88.9249 L90.0891 107.374 L101.895 107.374 L101.895 88.9249 M100.668 84.8509 L106.547 84.8509 L106.547 107.374 L111.478 107.374 L111.478 111.263 L106.547 111.263 L106.547 119.411 L101.895 119.411 L101.895 111.263 L86.2929 111.263 L86.2929 106.749 L100.668 84.8509 Z\" fill=\"#000000\" fill-rule=\"evenodd\" fill-opacity=\"1\" /><polyline clip-path=\"url(#clip522)\" style=\"stroke:#009af9; stroke-linecap:butt; stroke-linejoin:round; stroke-width:4; stroke-opacity:1; fill:none\" points=\"\n",
       "  209.891,1445.72 213.278,1443.91 216.664,1441.99 220.05,1439.96 223.436,1437.82 239.092,1426.46 254.747,1412.75 270.402,1396.72 286.057,1378.45 301.712,1358.04 \n",
       "  317.368,1335.58 333.023,1311.21 348.678,1285.08 367.494,1251.56 386.311,1216.03 405.127,1178.82 423.943,1140.29 455.761,1073.17 487.579,1005.19 504.861,968.592 \n",
       "  522.142,932.597 539.424,897.507 556.705,863.604 572.637,833.636 588.569,805.11 604.502,778.212 620.434,753.117 637.514,728.39 654.595,706.082 671.676,686.337 \n",
       "  688.757,669.269 698.652,660.643 708.547,652.958 718.442,646.223 728.337,640.445 738.232,635.625 748.127,631.762 758.022,628.853 767.917,626.889 785.503,625.694 \n",
       "  803.09,627.358 820.677,631.762 838.264,638.752 853.686,646.868 869.108,656.695 884.53,668.079 899.953,680.852 933.581,712.638 967.21,748.14 1001.04,785.407 \n",
       "  1034.87,821.96 1053.57,841.037 1072.27,858.842 1090.97,875.024 1109.67,889.256 1127.46,900.707 1145.26,909.879 1163.05,916.559 1180.84,920.564 1199.34,921.729 \n",
       "  1217.84,919.704 1236.35,914.396 1254.85,905.752 1270.42,895.879 1285.99,883.65 1301.57,869.1 1317.14,852.289 1336.16,828.81 1355.17,802.256 1374.18,772.846 \n",
       "  1393.2,740.838 1410.62,709.485 1428.03,676.444 1445.45,641.98 1462.87,606.374 1495.04,538.601 1527.22,469.866 1559.81,401.265 1592.4,335.686 1610.66,300.967 \n",
       "  1628.92,268.099 1647.19,237.364 1665.45,209.023 1682,185.601 1698.55,164.48 1715.1,145.788 1731.64,129.624 1750.59,114.318 1769.54,102.499 1779.01,97.9059 \n",
       "  1788.49,94.191 1797.96,91.35 1807.43,89.3761 1824.98,87.9763 1842.52,89.4296 1860.06,93.6183 1877.61,100.394 1894.9,109.433 1912.2,120.618 1929.5,133.73 \n",
       "  1946.79,148.529 1980.38,181.098 2013.96,216.994 2048.39,254.96 2082.82,291.728 2101.68,310.512 2120.54,327.859 2139.4,343.418 2158.27,356.863 2171.96,365.13 \n",
       "  2185.66,372.017 2199.36,377.429 2213.06,381.281 2226.76,383.496 2240.46,384.013 2254.16,382.78 2267.86,379.755 2273.48,377.989 2279.1,375.916 2284.72,373.534 \n",
       "  2290.34,370.842 \n",
       "  \"/>\n",
       "<path clip-path=\"url(#clip520)\" d=\"\n",
       "M1981.79 198.898 L2279.25 198.898 L2279.25 95.2176 L1981.79 95.2176  Z\n",
       "  \" fill=\"#ffffff\" fill-rule=\"evenodd\" fill-opacity=\"1\"/>\n",
       "<polyline clip-path=\"url(#clip520)\" style=\"stroke:#000000; stroke-linecap:butt; stroke-linejoin:round; stroke-width:4; stroke-opacity:1; fill:none\" points=\"\n",
       "  1981.79,198.898 2279.25,198.898 2279.25,95.2176 1981.79,95.2176 1981.79,198.898 \n",
       "  \"/>\n",
       "<polyline clip-path=\"url(#clip520)\" style=\"stroke:#009af9; stroke-linecap:butt; stroke-linejoin:round; stroke-width:4; stroke-opacity:1; fill:none\" points=\"\n",
       "  2006.29,147.058 2153.31,147.058 \n",
       "  \"/>\n",
       "<path clip-path=\"url(#clip520)\" d=\"M2191.65 166.745 Q2189.85 171.375 2188.13 172.787 Q2186.42 174.199 2183.55 174.199 L2180.15 174.199 L2180.15 170.634 L2182.65 170.634 Q2184.41 170.634 2185.38 169.8 Q2186.35 168.967 2187.53 165.865 L2188.3 163.921 L2177.81 138.412 L2182.32 138.412 L2190.43 158.689 L2198.53 138.412 L2203.04 138.412 L2191.65 166.745 Z\" fill=\"#000000\" fill-rule=\"evenodd\" fill-opacity=\"1\" /><path clip-path=\"url(#clip520)\" d=\"M2210.33 160.402 L2217.97 160.402 L2217.97 134.037 L2209.66 135.703 L2209.66 131.444 L2217.93 129.778 L2222.6 129.778 L2222.6 160.402 L2230.24 160.402 L2230.24 164.338 L2210.33 164.338 L2210.33 160.402 Z\" fill=\"#000000\" fill-rule=\"evenodd\" fill-opacity=\"1\" /></svg>\n"
      ]
     },
     "execution_count": 20,
     "metadata": {},
     "output_type": "execute_result"
    }
   ],
   "source": [
    "f(x) = 2x-cos(2*3.14*x)\n",
    "plot(f, 0, 2) "
   ]
  },
  {
   "cell_type": "code",
   "execution_count": null,
   "id": "5f23576d-5f58-4d85-9c71-d699e1811f75",
   "metadata": {},
   "outputs": [],
   "source": []
  }
 ],
 "metadata": {
  "kernelspec": {
   "display_name": "Julia 1.7.0",
   "language": "julia",
   "name": "julia-1.7"
  },
  "language_info": {
   "file_extension": ".jl",
   "mimetype": "application/julia",
   "name": "julia",
   "version": "1.7.0"
  }
 },
 "nbformat": 4,
 "nbformat_minor": 5
}
