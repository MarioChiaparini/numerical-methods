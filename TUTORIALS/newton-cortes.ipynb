{
 "cells": [
  {
   "cell_type": "markdown",
   "id": "391d4eea-5952-494c-ac08-455cfa9622c8",
   "metadata": {},
   "source": [
    "## Numerical Integration - Newton-Cortes Method"
   ]
  },
  {
   "cell_type": "code",
   "execution_count": null,
   "id": "573d9ca8-7bb6-4c82-9a27-c5377487cd5f",
   "metadata": {},
   "outputs": [],
   "source": []
  },
  {
   "cell_type": "code",
   "execution_count": null,
   "id": "af302b18-5309-45b9-8907-4d6b089043b0",
   "metadata": {},
   "outputs": [],
   "source": []
  },
  {
   "cell_type": "code",
   "execution_count": null,
   "id": "4a480ec5-9fc8-43d7-ad1a-b73e368fd753",
   "metadata": {},
   "outputs": [],
   "source": []
  }
 ],
 "metadata": {
  "kernelspec": {
   "display_name": "Julia 1.7.0",
   "language": "julia",
   "name": "julia-1.7"
  },
  "language_info": {
   "file_extension": ".jl",
   "mimetype": "application/julia",
   "name": "julia",
   "version": "1.7.0"
  }
 },
 "nbformat": 4,
 "nbformat_minor": 5
}
