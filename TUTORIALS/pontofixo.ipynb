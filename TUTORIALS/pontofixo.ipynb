{
 "cells": [
  {
   "cell_type": "markdown",
   "id": "65d1679d-9557-4131-bcee-863610e608aa",
   "metadata": {},
   "source": [
    "## Root Finding Method - Fixed Point Method"
   ]
  },
  {
   "cell_type": "code",
   "execution_count": 1,
   "id": "cfa92aba-435c-4632-9903-390bce5175be",
   "metadata": {},
   "outputs": [],
   "source": [
    "using MTH229\n",
    "using Plots\n",
    "using Printf"
   ]
  },
  {
   "cell_type": "code",
   "execution_count": 85,
   "id": "ffd5fe21-1a34-4876-be38-eea968b0927d",
   "metadata": {},
   "outputs": [
    {
     "data": {
      "text/plain": [
       "fixedpoint (generic function with 4 methods)"
      ]
     },
     "execution_count": 85,
     "metadata": {},
     "output_type": "execute_result"
    }
   ],
   "source": [
    "function fixedpoint(f::Function, g::Function,guess::Number, \n",
    "               maxiter::Integer=10, tol::AbstractFloat=1e-2, step::Integer=0)\n",
    "    cond = true\n",
    "    flag = 1\n",
    "    while cond\n",
    "        xi = g(guess)\n",
    "        guess = xi\n",
    "        step += 1\n",
    "        @printf(\"\\n Iteration-%d, x1 = %0.6f and f(x1) = %0.6f\", step, xi, f(xi))\n",
    "        if step > maxiter\n",
    "            flag = 0\n",
    "            break\n",
    "        if abs(f(xi)) > tol\n",
    "           cond = false\n",
    "           break\n",
    "           \n",
    "        if flag == 1\n",
    "                    @printf(\"\\n Required root is: %f\", xi)\n",
    "            else\n",
    "                    @printf(\"\\n Not Convergent\")\n",
    "            end\n",
    "        end \n",
    "    end\n",
    "end"
   ]
  },
  {
   "cell_type": "code",
   "execution_count": 77,
   "id": "21f70810-5b5c-48d5-b709-e9594eb86d06",
   "metadata": {},
   "outputs": [
    {
     "data": {
      "text/plain": [
       "g (generic function with 1 method)"
      ]
     },
     "execution_count": 77,
     "metadata": {},
     "output_type": "execute_result"
    }
   ],
   "source": [
    "f(x) = x^3 + x^2 -1\n",
    "g(x) = 1/((1+x)^0.5)"
   ]
  },
  {
   "cell_type": "code",
   "execution_count": 86,
   "id": "6a4fa2c3-a249-4515-9393-c00266b5f037",
   "metadata": {},
   "outputs": [
    {
     "name": "stdout",
     "output_type": "stream",
     "text": [
      "\n",
      " Iteration-1, x1 = 0.577350 and f(x1) = -0.474217\n",
      " Iteration-2, x1 = 0.796225 and f(x1) = 0.138761\n",
      " Iteration-3, x1 = 0.746139 and f(x1) = -0.027884\n",
      " Iteration-4, x1 = 0.756764 and f(x1) = 0.006085\n",
      " Iteration-5, x1 = 0.754472 and f(x1) = -0.001305\n",
      " Iteration-6, x1 = 0.754965 and f(x1) = 0.000281\n",
      " Iteration-7, x1 = 0.754859 and f(x1) = -0.000060\n",
      " Iteration-8, x1 = 0.754882 and f(x1) = 0.000013\n",
      " Iteration-9, x1 = 0.754877 and f(x1) = -0.000003\n",
      " Iteration-10, x1 = 0.754878 and f(x1) = 0.000001\n",
      " Iteration-11, x1 = 0.754878 and f(x1) = -0.000000"
     ]
    }
   ],
   "source": [
    "fixedpoint(f,g,2)"
   ]
  },
  {
   "cell_type": "code",
   "execution_count": 22,
   "id": "aa10846b-fc90-4784-aa02-6cdcd14068fa",
   "metadata": {},
   "outputs": [
    {
     "data": {
      "image/svg+xml": [
       "<?xml version=\"1.0\" encoding=\"utf-8\"?>\n",
       "<svg xmlns=\"http://www.w3.org/2000/svg\" xmlns:xlink=\"http://www.w3.org/1999/xlink\" width=\"600\" height=\"400\" viewBox=\"0 0 2400 1600\">\n",
       "<defs>\n",
       "  <clipPath id=\"clip850\">\n",
       "    <rect x=\"0\" y=\"0\" width=\"2400\" height=\"1600\"/>\n",
       "  </clipPath>\n",
       "</defs>\n",
       "<path clip-path=\"url(#clip850)\" d=\"\n",
       "M0 1600 L2400 1600 L2400 0 L0 0  Z\n",
       "  \" fill=\"#ffffff\" fill-rule=\"evenodd\" fill-opacity=\"1\"/>\n",
       "<defs>\n",
       "  <clipPath id=\"clip851\">\n",
       "    <rect x=\"480\" y=\"0\" width=\"1681\" height=\"1600\"/>\n",
       "  </clipPath>\n",
       "</defs>\n",
       "<path clip-path=\"url(#clip850)\" d=\"\n",
       "M209.029 1486.45 L2352.76 1486.45 L2352.76 47.2441 L209.029 47.2441  Z\n",
       "  \" fill=\"#ffffff\" fill-rule=\"evenodd\" fill-opacity=\"1\"/>\n",
       "<defs>\n",
       "  <clipPath id=\"clip852\">\n",
       "    <rect x=\"209\" y=\"47\" width=\"2145\" height=\"1440\"/>\n",
       "  </clipPath>\n",
       "</defs>\n",
       "<polyline clip-path=\"url(#clip852)\" style=\"stroke:#000000; stroke-linecap:butt; stroke-linejoin:round; stroke-width:2; stroke-opacity:0.1; fill:none\" points=\"\n",
       "  471.938,1486.45 471.938,47.2441 \n",
       "  \"/>\n",
       "<polyline clip-path=\"url(#clip852)\" style=\"stroke:#000000; stroke-linecap:butt; stroke-linejoin:round; stroke-width:2; stroke-opacity:0.1; fill:none\" points=\"\n",
       "  876.415,1486.45 876.415,47.2441 \n",
       "  \"/>\n",
       "<polyline clip-path=\"url(#clip852)\" style=\"stroke:#000000; stroke-linecap:butt; stroke-linejoin:round; stroke-width:2; stroke-opacity:0.1; fill:none\" points=\"\n",
       "  1280.89,1486.45 1280.89,47.2441 \n",
       "  \"/>\n",
       "<polyline clip-path=\"url(#clip852)\" style=\"stroke:#000000; stroke-linecap:butt; stroke-linejoin:round; stroke-width:2; stroke-opacity:0.1; fill:none\" points=\"\n",
       "  1685.37,1486.45 1685.37,47.2441 \n",
       "  \"/>\n",
       "<polyline clip-path=\"url(#clip852)\" style=\"stroke:#000000; stroke-linecap:butt; stroke-linejoin:round; stroke-width:2; stroke-opacity:0.1; fill:none\" points=\"\n",
       "  2089.85,1486.45 2089.85,47.2441 \n",
       "  \"/>\n",
       "<polyline clip-path=\"url(#clip850)\" style=\"stroke:#000000; stroke-linecap:butt; stroke-linejoin:round; stroke-width:4; stroke-opacity:1; fill:none\" points=\"\n",
       "  209.029,1486.45 2352.76,1486.45 \n",
       "  \"/>\n",
       "<polyline clip-path=\"url(#clip850)\" style=\"stroke:#000000; stroke-linecap:butt; stroke-linejoin:round; stroke-width:4; stroke-opacity:1; fill:none\" points=\"\n",
       "  471.938,1486.45 471.938,1467.55 \n",
       "  \"/>\n",
       "<polyline clip-path=\"url(#clip850)\" style=\"stroke:#000000; stroke-linecap:butt; stroke-linejoin:round; stroke-width:4; stroke-opacity:1; fill:none\" points=\"\n",
       "  876.415,1486.45 876.415,1467.55 \n",
       "  \"/>\n",
       "<polyline clip-path=\"url(#clip850)\" style=\"stroke:#000000; stroke-linecap:butt; stroke-linejoin:round; stroke-width:4; stroke-opacity:1; fill:none\" points=\"\n",
       "  1280.89,1486.45 1280.89,1467.55 \n",
       "  \"/>\n",
       "<polyline clip-path=\"url(#clip850)\" style=\"stroke:#000000; stroke-linecap:butt; stroke-linejoin:round; stroke-width:4; stroke-opacity:1; fill:none\" points=\"\n",
       "  1685.37,1486.45 1685.37,1467.55 \n",
       "  \"/>\n",
       "<polyline clip-path=\"url(#clip850)\" style=\"stroke:#000000; stroke-linecap:butt; stroke-linejoin:round; stroke-width:4; stroke-opacity:1; fill:none\" points=\"\n",
       "  2089.85,1486.45 2089.85,1467.55 \n",
       "  \"/>\n",
       "<path clip-path=\"url(#clip850)\" d=\"M440.839 1532.02 L470.515 1532.02 L470.515 1535.95 L440.839 1535.95 L440.839 1532.02 Z\" fill=\"#000000\" fill-rule=\"evenodd\" fill-opacity=\"1\" /><path clip-path=\"url(#clip850)\" d=\"M493.455 1518.36 L481.649 1536.81 L493.455 1536.81 L493.455 1518.36 M492.228 1514.29 L498.107 1514.29 L498.107 1536.81 L503.038 1536.81 L503.038 1540.7 L498.107 1540.7 L498.107 1548.85 L493.455 1548.85 L493.455 1540.7 L477.853 1540.7 L477.853 1536.19 L492.228 1514.29 Z\" fill=\"#000000\" fill-rule=\"evenodd\" fill-opacity=\"1\" /><path clip-path=\"url(#clip850)\" d=\"M846.358 1532.02 L876.033 1532.02 L876.033 1535.95 L846.358 1535.95 L846.358 1532.02 Z\" fill=\"#000000\" fill-rule=\"evenodd\" fill-opacity=\"1\" /><path clip-path=\"url(#clip850)\" d=\"M890.154 1544.91 L906.473 1544.91 L906.473 1548.85 L884.529 1548.85 L884.529 1544.91 Q887.191 1542.16 891.774 1537.53 Q896.381 1532.88 897.561 1531.53 Q899.806 1529.01 900.686 1527.27 Q901.589 1525.51 901.589 1523.82 Q901.589 1521.07 899.644 1519.33 Q897.723 1517.6 894.621 1517.6 Q892.422 1517.6 889.969 1518.36 Q887.538 1519.13 884.76 1520.68 L884.76 1515.95 Q887.584 1514.82 890.038 1514.24 Q892.492 1513.66 894.529 1513.66 Q899.899 1513.66 903.093 1516.35 Q906.288 1519.03 906.288 1523.52 Q906.288 1525.65 905.478 1527.57 Q904.691 1529.47 902.584 1532.07 Q902.005 1532.74 898.904 1535.95 Q895.802 1539.15 890.154 1544.91 Z\" fill=\"#000000\" fill-rule=\"evenodd\" fill-opacity=\"1\" /><path clip-path=\"url(#clip850)\" d=\"M1280.89 1517.37 Q1277.28 1517.37 1275.45 1520.93 Q1273.65 1524.47 1273.65 1531.6 Q1273.65 1538.71 1275.45 1542.27 Q1277.28 1545.82 1280.89 1545.82 Q1284.53 1545.82 1286.33 1542.27 Q1288.16 1538.71 1288.16 1531.6 Q1288.16 1524.47 1286.33 1520.93 Q1284.53 1517.37 1280.89 1517.37 M1280.89 1513.66 Q1286.7 1513.66 1289.76 1518.27 Q1292.84 1522.85 1292.84 1531.6 Q1292.84 1540.33 1289.76 1544.94 Q1286.7 1549.52 1280.89 1549.52 Q1275.08 1549.52 1272 1544.94 Q1268.95 1540.33 1268.95 1531.6 Q1268.95 1522.85 1272 1518.27 Q1275.08 1513.66 1280.89 1513.66 Z\" fill=\"#000000\" fill-rule=\"evenodd\" fill-opacity=\"1\" /><path clip-path=\"url(#clip850)\" d=\"M1680.02 1544.91 L1696.34 1544.91 L1696.34 1548.85 L1674.4 1548.85 L1674.4 1544.91 Q1677.06 1542.16 1681.64 1537.53 Q1686.25 1532.88 1687.43 1531.53 Q1689.67 1529.01 1690.55 1527.27 Q1691.46 1525.51 1691.46 1523.82 Q1691.46 1521.07 1689.51 1519.33 Q1687.59 1517.6 1684.49 1517.6 Q1682.29 1517.6 1679.84 1518.36 Q1677.41 1519.13 1674.63 1520.68 L1674.63 1515.95 Q1677.45 1514.82 1679.91 1514.24 Q1682.36 1513.66 1684.4 1513.66 Q1689.77 1513.66 1692.96 1516.35 Q1696.16 1519.03 1696.16 1523.52 Q1696.16 1525.65 1695.35 1527.57 Q1694.56 1529.47 1692.45 1532.07 Q1691.87 1532.74 1688.77 1535.95 Q1685.67 1539.15 1680.02 1544.91 Z\" fill=\"#000000\" fill-rule=\"evenodd\" fill-opacity=\"1\" /><path clip-path=\"url(#clip850)\" d=\"M2092.86 1518.36 L2081.05 1536.81 L2092.86 1536.81 L2092.86 1518.36 M2091.63 1514.29 L2097.51 1514.29 L2097.51 1536.81 L2102.44 1536.81 L2102.44 1540.7 L2097.51 1540.7 L2097.51 1548.85 L2092.86 1548.85 L2092.86 1540.7 L2077.25 1540.7 L2077.25 1536.19 L2091.63 1514.29 Z\" fill=\"#000000\" fill-rule=\"evenodd\" fill-opacity=\"1\" /><polyline clip-path=\"url(#clip852)\" style=\"stroke:#000000; stroke-linecap:butt; stroke-linejoin:round; stroke-width:2; stroke-opacity:0.1; fill:none\" points=\"\n",
       "  209.029,1440.28 2352.76,1440.28 \n",
       "  \"/>\n",
       "<polyline clip-path=\"url(#clip852)\" style=\"stroke:#000000; stroke-linecap:butt; stroke-linejoin:round; stroke-width:2; stroke-opacity:0.1; fill:none\" points=\"\n",
       "  209.029,1168.74 2352.76,1168.74 \n",
       "  \"/>\n",
       "<polyline clip-path=\"url(#clip852)\" style=\"stroke:#000000; stroke-linecap:butt; stroke-linejoin:round; stroke-width:2; stroke-opacity:0.1; fill:none\" points=\"\n",
       "  209.029,897.189 2352.76,897.189 \n",
       "  \"/>\n",
       "<polyline clip-path=\"url(#clip852)\" style=\"stroke:#000000; stroke-linecap:butt; stroke-linejoin:round; stroke-width:2; stroke-opacity:0.1; fill:none\" points=\"\n",
       "  209.029,625.641 2352.76,625.641 \n",
       "  \"/>\n",
       "<polyline clip-path=\"url(#clip852)\" style=\"stroke:#000000; stroke-linecap:butt; stroke-linejoin:round; stroke-width:2; stroke-opacity:0.1; fill:none\" points=\"\n",
       "  209.029,354.093 2352.76,354.093 \n",
       "  \"/>\n",
       "<polyline clip-path=\"url(#clip852)\" style=\"stroke:#000000; stroke-linecap:butt; stroke-linejoin:round; stroke-width:2; stroke-opacity:0.1; fill:none\" points=\"\n",
       "  209.029,82.5453 2352.76,82.5453 \n",
       "  \"/>\n",
       "<polyline clip-path=\"url(#clip850)\" style=\"stroke:#000000; stroke-linecap:butt; stroke-linejoin:round; stroke-width:4; stroke-opacity:1; fill:none\" points=\"\n",
       "  209.029,1486.45 209.029,47.2441 \n",
       "  \"/>\n",
       "<polyline clip-path=\"url(#clip850)\" style=\"stroke:#000000; stroke-linecap:butt; stroke-linejoin:round; stroke-width:4; stroke-opacity:1; fill:none\" points=\"\n",
       "  209.029,1440.28 227.926,1440.28 \n",
       "  \"/>\n",
       "<polyline clip-path=\"url(#clip850)\" style=\"stroke:#000000; stroke-linecap:butt; stroke-linejoin:round; stroke-width:4; stroke-opacity:1; fill:none\" points=\"\n",
       "  209.029,1168.74 227.926,1168.74 \n",
       "  \"/>\n",
       "<polyline clip-path=\"url(#clip850)\" style=\"stroke:#000000; stroke-linecap:butt; stroke-linejoin:round; stroke-width:4; stroke-opacity:1; fill:none\" points=\"\n",
       "  209.029,897.189 227.926,897.189 \n",
       "  \"/>\n",
       "<polyline clip-path=\"url(#clip850)\" style=\"stroke:#000000; stroke-linecap:butt; stroke-linejoin:round; stroke-width:4; stroke-opacity:1; fill:none\" points=\"\n",
       "  209.029,625.641 227.926,625.641 \n",
       "  \"/>\n",
       "<polyline clip-path=\"url(#clip850)\" style=\"stroke:#000000; stroke-linecap:butt; stroke-linejoin:round; stroke-width:4; stroke-opacity:1; fill:none\" points=\"\n",
       "  209.029,354.093 227.926,354.093 \n",
       "  \"/>\n",
       "<polyline clip-path=\"url(#clip850)\" style=\"stroke:#000000; stroke-linecap:butt; stroke-linejoin:round; stroke-width:4; stroke-opacity:1; fill:none\" points=\"\n",
       "  209.029,82.5453 227.926,82.5453 \n",
       "  \"/>\n",
       "<path clip-path=\"url(#clip850)\" d=\"M50.9921 1440.74 L80.6679 1440.74 L80.6679 1444.67 L50.9921 1444.67 L50.9921 1440.74 Z\" fill=\"#000000\" fill-rule=\"evenodd\" fill-opacity=\"1\" /><path clip-path=\"url(#clip850)\" d=\"M91.5706 1453.63 L99.2095 1453.63 L99.2095 1427.26 L90.8993 1428.93 L90.8993 1424.67 L99.1632 1423 L103.839 1423 L103.839 1453.63 L111.478 1453.63 L111.478 1457.56 L91.5706 1457.56 L91.5706 1453.63 Z\" fill=\"#000000\" fill-rule=\"evenodd\" fill-opacity=\"1\" /><path clip-path=\"url(#clip850)\" d=\"M130.922 1426.08 Q127.311 1426.08 125.482 1429.65 Q123.677 1433.19 123.677 1440.32 Q123.677 1447.43 125.482 1450.99 Q127.311 1454.53 130.922 1454.53 Q134.556 1454.53 136.362 1450.99 Q138.191 1447.43 138.191 1440.32 Q138.191 1433.19 136.362 1429.65 Q134.556 1426.08 130.922 1426.08 M130.922 1422.38 Q136.732 1422.38 139.788 1426.99 Q142.867 1431.57 142.867 1440.32 Q142.867 1449.05 139.788 1453.65 Q136.732 1458.24 130.922 1458.24 Q125.112 1458.24 122.033 1453.65 Q118.978 1449.05 118.978 1440.32 Q118.978 1431.57 122.033 1426.99 Q125.112 1422.38 130.922 1422.38 Z\" fill=\"#000000\" fill-rule=\"evenodd\" fill-opacity=\"1\" /><path clip-path=\"url(#clip850)\" d=\"M161.084 1426.08 Q157.473 1426.08 155.644 1429.65 Q153.839 1433.19 153.839 1440.32 Q153.839 1447.43 155.644 1450.99 Q157.473 1454.53 161.084 1454.53 Q164.718 1454.53 166.524 1450.99 Q168.353 1447.43 168.353 1440.32 Q168.353 1433.19 166.524 1429.65 Q164.718 1426.08 161.084 1426.08 M161.084 1422.38 Q166.894 1422.38 169.95 1426.99 Q173.029 1431.57 173.029 1440.32 Q173.029 1449.05 169.95 1453.65 Q166.894 1458.24 161.084 1458.24 Q155.274 1458.24 152.195 1453.65 Q149.14 1449.05 149.14 1440.32 Q149.14 1431.57 152.195 1426.99 Q155.274 1422.38 161.084 1422.38 Z\" fill=\"#000000\" fill-rule=\"evenodd\" fill-opacity=\"1\" /><path clip-path=\"url(#clip850)\" d=\"M81.154 1169.19 L110.83 1169.19 L110.83 1173.12 L81.154 1173.12 L81.154 1169.19 Z\" fill=\"#000000\" fill-rule=\"evenodd\" fill-opacity=\"1\" /><path clip-path=\"url(#clip850)\" d=\"M120.969 1151.46 L139.325 1151.46 L139.325 1155.39 L125.251 1155.39 L125.251 1163.86 Q126.27 1163.52 127.288 1163.35 Q128.307 1163.17 129.325 1163.17 Q135.112 1163.17 138.492 1166.34 Q141.871 1169.51 141.871 1174.93 Q141.871 1180.51 138.399 1183.61 Q134.927 1186.69 128.607 1186.69 Q126.432 1186.69 124.163 1186.32 Q121.918 1185.95 119.51 1185.21 L119.51 1180.51 Q121.594 1181.64 123.816 1182.2 Q126.038 1182.75 128.515 1182.75 Q132.519 1182.75 134.857 1180.65 Q137.195 1178.54 137.195 1174.93 Q137.195 1171.32 134.857 1169.21 Q132.519 1167.1 128.515 1167.1 Q126.64 1167.1 124.765 1167.52 Q122.913 1167.94 120.969 1168.82 L120.969 1151.46 Z\" fill=\"#000000\" fill-rule=\"evenodd\" fill-opacity=\"1\" /><path clip-path=\"url(#clip850)\" d=\"M161.084 1154.54 Q157.473 1154.54 155.644 1158.1 Q153.839 1161.64 153.839 1168.77 Q153.839 1175.88 155.644 1179.44 Q157.473 1182.98 161.084 1182.98 Q164.718 1182.98 166.524 1179.44 Q168.353 1175.88 168.353 1168.77 Q168.353 1161.64 166.524 1158.1 Q164.718 1154.54 161.084 1154.54 M161.084 1150.83 Q166.894 1150.83 169.95 1155.44 Q173.029 1160.02 173.029 1168.77 Q173.029 1177.5 169.95 1182.1 Q166.894 1186.69 161.084 1186.69 Q155.274 1186.69 152.195 1182.1 Q149.14 1177.5 149.14 1168.77 Q149.14 1160.02 152.195 1155.44 Q155.274 1150.83 161.084 1150.83 Z\" fill=\"#000000\" fill-rule=\"evenodd\" fill-opacity=\"1\" /><path clip-path=\"url(#clip850)\" d=\"M161.084 882.988 Q157.473 882.988 155.644 886.552 Q153.839 890.094 153.839 897.224 Q153.839 904.33 155.644 907.895 Q157.473 911.437 161.084 911.437 Q164.718 911.437 166.524 907.895 Q168.353 904.33 168.353 897.224 Q168.353 890.094 166.524 886.552 Q164.718 882.988 161.084 882.988 M161.084 879.284 Q166.894 879.284 169.95 883.89 Q173.029 888.474 173.029 897.224 Q173.029 905.95 169.95 910.557 Q166.894 915.14 161.084 915.14 Q155.274 915.14 152.195 910.557 Q149.14 905.95 149.14 897.224 Q149.14 888.474 152.195 883.89 Q155.274 879.284 161.084 879.284 Z\" fill=\"#000000\" fill-rule=\"evenodd\" fill-opacity=\"1\" /><path clip-path=\"url(#clip850)\" d=\"M120.969 608.361 L139.325 608.361 L139.325 612.296 L125.251 612.296 L125.251 620.768 Q126.27 620.421 127.288 620.259 Q128.307 620.074 129.325 620.074 Q135.112 620.074 138.492 623.245 Q141.871 626.417 141.871 631.833 Q141.871 637.412 138.399 640.514 Q134.927 643.592 128.607 643.592 Q126.432 643.592 124.163 643.222 Q121.918 642.852 119.51 642.111 L119.51 637.412 Q121.594 638.546 123.816 639.102 Q126.038 639.657 128.515 639.657 Q132.519 639.657 134.857 637.551 Q137.195 635.444 137.195 631.833 Q137.195 628.222 134.857 626.116 Q132.519 624.009 128.515 624.009 Q126.64 624.009 124.765 624.426 Q122.913 624.842 120.969 625.722 L120.969 608.361 Z\" fill=\"#000000\" fill-rule=\"evenodd\" fill-opacity=\"1\" /><path clip-path=\"url(#clip850)\" d=\"M161.084 611.44 Q157.473 611.44 155.644 615.005 Q153.839 618.546 153.839 625.676 Q153.839 632.782 155.644 636.347 Q157.473 639.889 161.084 639.889 Q164.718 639.889 166.524 636.347 Q168.353 632.782 168.353 625.676 Q168.353 618.546 166.524 615.005 Q164.718 611.44 161.084 611.44 M161.084 607.736 Q166.894 607.736 169.95 612.343 Q173.029 616.926 173.029 625.676 Q173.029 634.403 169.95 639.009 Q166.894 643.592 161.084 643.592 Q155.274 643.592 152.195 639.009 Q149.14 634.403 149.14 625.676 Q149.14 616.926 152.195 612.343 Q155.274 607.736 161.084 607.736 Z\" fill=\"#000000\" fill-rule=\"evenodd\" fill-opacity=\"1\" /><path clip-path=\"url(#clip850)\" d=\"M91.5706 367.438 L99.2095 367.438 L99.2095 341.072 L90.8993 342.739 L90.8993 338.48 L99.1632 336.813 L103.839 336.813 L103.839 367.438 L111.478 367.438 L111.478 371.373 L91.5706 371.373 L91.5706 367.438 Z\" fill=\"#000000\" fill-rule=\"evenodd\" fill-opacity=\"1\" /><path clip-path=\"url(#clip850)\" d=\"M130.922 339.892 Q127.311 339.892 125.482 343.457 Q123.677 346.998 123.677 354.128 Q123.677 361.234 125.482 364.799 Q127.311 368.341 130.922 368.341 Q134.556 368.341 136.362 364.799 Q138.191 361.234 138.191 354.128 Q138.191 346.998 136.362 343.457 Q134.556 339.892 130.922 339.892 M130.922 336.188 Q136.732 336.188 139.788 340.795 Q142.867 345.378 142.867 354.128 Q142.867 362.855 139.788 367.461 Q136.732 372.044 130.922 372.044 Q125.112 372.044 122.033 367.461 Q118.978 362.855 118.978 354.128 Q118.978 345.378 122.033 340.795 Q125.112 336.188 130.922 336.188 Z\" fill=\"#000000\" fill-rule=\"evenodd\" fill-opacity=\"1\" /><path clip-path=\"url(#clip850)\" d=\"M161.084 339.892 Q157.473 339.892 155.644 343.457 Q153.839 346.998 153.839 354.128 Q153.839 361.234 155.644 364.799 Q157.473 368.341 161.084 368.341 Q164.718 368.341 166.524 364.799 Q168.353 361.234 168.353 354.128 Q168.353 346.998 166.524 343.457 Q164.718 339.892 161.084 339.892 M161.084 336.188 Q166.894 336.188 169.95 340.795 Q173.029 345.378 173.029 354.128 Q173.029 362.855 169.95 367.461 Q166.894 372.044 161.084 372.044 Q155.274 372.044 152.195 367.461 Q149.14 362.855 149.14 354.128 Q149.14 345.378 152.195 340.795 Q155.274 336.188 161.084 336.188 Z\" fill=\"#000000\" fill-rule=\"evenodd\" fill-opacity=\"1\" /><path clip-path=\"url(#clip850)\" d=\"M91.5706 95.8902 L99.2095 95.8902 L99.2095 69.5246 L90.8993 71.1912 L90.8993 66.932 L99.1632 65.2653 L103.839 65.2653 L103.839 95.8902 L111.478 95.8902 L111.478 99.8253 L91.5706 99.8253 L91.5706 95.8902 Z\" fill=\"#000000\" fill-rule=\"evenodd\" fill-opacity=\"1\" /><path clip-path=\"url(#clip850)\" d=\"M120.969 65.2653 L139.325 65.2653 L139.325 69.2005 L125.251 69.2005 L125.251 77.6727 Q126.27 77.3254 127.288 77.1634 Q128.307 76.9782 129.325 76.9782 Q135.112 76.9782 138.492 80.1495 Q141.871 83.3208 141.871 88.7374 Q141.871 94.3161 138.399 97.4179 Q134.927 100.497 128.607 100.497 Q126.432 100.497 124.163 100.126 Q121.918 99.7559 119.51 99.0151 L119.51 94.3161 Q121.594 95.4503 123.816 96.0059 Q126.038 96.5614 128.515 96.5614 Q132.519 96.5614 134.857 94.455 Q137.195 92.3485 137.195 88.7374 Q137.195 85.1263 134.857 83.0199 Q132.519 80.9134 128.515 80.9134 Q126.64 80.9134 124.765 81.33 Q122.913 81.7467 120.969 82.6263 L120.969 65.2653 Z\" fill=\"#000000\" fill-rule=\"evenodd\" fill-opacity=\"1\" /><path clip-path=\"url(#clip850)\" d=\"M161.084 68.344 Q157.473 68.344 155.644 71.9088 Q153.839 75.4504 153.839 82.58 Q153.839 89.6865 155.644 93.2513 Q157.473 96.7929 161.084 96.7929 Q164.718 96.7929 166.524 93.2513 Q168.353 89.6865 168.353 82.58 Q168.353 75.4504 166.524 71.9088 Q164.718 68.344 161.084 68.344 M161.084 64.6403 Q166.894 64.6403 169.95 69.2468 Q173.029 73.8301 173.029 82.58 Q173.029 91.3068 169.95 95.9133 Q166.894 100.497 161.084 100.497 Q155.274 100.497 152.195 95.9133 Q149.14 91.3068 149.14 82.58 Q149.14 73.8301 152.195 69.2468 Q155.274 64.6403 161.084 64.6403 Z\" fill=\"#000000\" fill-rule=\"evenodd\" fill-opacity=\"1\" /><polyline clip-path=\"url(#clip852)\" style=\"stroke:#009af9; stroke-linecap:butt; stroke-linejoin:round; stroke-width:4; stroke-opacity:1; fill:none\" points=\"\n",
       "  269.7,1445.72 272.992,1439.99 276.283,1434.3 279.575,1428.66 282.867,1423.05 313.303,1373.08 343.74,1326.4 374.177,1282.89 404.613,1242.45 422.904,1219.57 \n",
       "  441.195,1197.73 459.487,1176.91 477.778,1157.08 508.707,1125.75 539.637,1097.08 573.236,1068.8 606.834,1043.37 637.809,1022.32 668.784,1003.45 701.992,985.499 \n",
       "  735.2,969.77 773.675,954.136 812.15,941.066 846.342,931.423 880.534,923.47 910.518,917.763 940.501,913.13 1005.88,906.234 1071.65,902.821 1144.36,901.816 \n",
       "  1213.55,902.218 1285.49,902.617 1346.05,901.875 1419.98,898.285 1487.71,891.132 1518.98,886.231 1550.26,880.153 1581.94,872.672 1613.62,863.734 1649.13,851.831 \n",
       "  1684.63,837.765 1716.81,823.002 1748.98,806.187 1785.82,784.246 1822.65,759.245 1856.76,733.197 1890.87,704.201 1924.5,672.576 1958.12,637.784 1990.77,600.831 \n",
       "  2023.42,560.615 2040.15,538.692 2056.89,515.857 2073.62,492.091 2090.36,467.376 2108.69,439.187 2127.02,409.813 2145.36,379.229 2163.69,347.411 2190.33,298.941 \n",
       "  2216.96,247.742 2243.59,193.739 2270.23,136.857 2275.69,124.825 2281.16,112.668 2286.62,100.385 2292.08,87.9763 \n",
       "  \"/>\n",
       "<path clip-path=\"url(#clip850)\" d=\"\n",
       "M1990.68 198.898 L2281.3 198.898 L2281.3 95.2176 L1990.68 95.2176  Z\n",
       "  \" fill=\"#ffffff\" fill-rule=\"evenodd\" fill-opacity=\"1\"/>\n",
       "<polyline clip-path=\"url(#clip850)\" style=\"stroke:#000000; stroke-linecap:butt; stroke-linejoin:round; stroke-width:4; stroke-opacity:1; fill:none\" points=\"\n",
       "  1990.68,198.898 2281.3,198.898 2281.3,95.2176 1990.68,95.2176 1990.68,198.898 \n",
       "  \"/>\n",
       "<polyline clip-path=\"url(#clip850)\" style=\"stroke:#009af9; stroke-linecap:butt; stroke-linejoin:round; stroke-width:4; stroke-opacity:1; fill:none\" points=\"\n",
       "  2014.5,147.058 2157.41,147.058 \n",
       "  \"/>\n",
       "<path clip-path=\"url(#clip850)\" d=\"M2195.07 166.745 Q2193.27 171.375 2191.55 172.787 Q2189.84 174.199 2186.97 174.199 L2183.57 174.199 L2183.57 170.634 L2186.07 170.634 Q2187.83 170.634 2188.8 169.8 Q2189.77 168.967 2190.95 165.865 L2191.72 163.921 L2181.23 138.412 L2185.74 138.412 L2193.85 158.689 L2201.95 138.412 L2206.46 138.412 L2195.07 166.745 Z\" fill=\"#000000\" fill-rule=\"evenodd\" fill-opacity=\"1\" /><path clip-path=\"url(#clip850)\" d=\"M2213.75 160.402 L2221.39 160.402 L2221.39 134.037 L2213.08 135.703 L2213.08 131.444 L2221.35 129.778 L2226.02 129.778 L2226.02 160.402 L2233.66 160.402 L2233.66 164.338 L2213.75 164.338 L2213.75 160.402 Z\" fill=\"#000000\" fill-rule=\"evenodd\" fill-opacity=\"1\" /></svg>\n"
      ]
     },
     "execution_count": 22,
     "metadata": {},
     "output_type": "execute_result"
    }
   ],
   "source": [
    "plot(f) "
   ]
  }
 ],
 "metadata": {
  "kernelspec": {
   "display_name": "Julia 1.7.0",
   "language": "julia",
   "name": "julia-1.7"
  },
  "language_info": {
   "file_extension": ".jl",
   "mimetype": "application/julia",
   "name": "julia",
   "version": "1.7.0"
  }
 },
 "nbformat": 4,
 "nbformat_minor": 5
}
