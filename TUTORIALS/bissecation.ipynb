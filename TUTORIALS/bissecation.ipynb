{
 "cells": [
  {
   "cell_type": "markdown",
   "id": "244bb6cc-a81d-41c9-9798-48c828ec4eef",
   "metadata": {},
   "source": [
    "## Root Finding Method - Bisection method "
   ]
  },
  {
   "cell_type": "code",
   "execution_count": 1,
   "id": "486dcd63-7f10-4c2a-a719-dff0a488692b",
   "metadata": {},
   "outputs": [],
   "source": [
    "using MTH229\n",
    "using Plots"
   ]
  },
  {
   "cell_type": "code",
   "execution_count": 2,
   "id": "20e9a6f7-520e-403d-8ec8-8b2298f5fd1a",
   "metadata": {},
   "outputs": [
    {
     "data": {
      "text/plain": [
       "bisec (generic function with 3 methods)"
      ]
     },
     "execution_count": 2,
     "metadata": {},
     "output_type": "execute_result"
    }
   ],
   "source": [
    "#FUNCTION BISECTION\n",
    "function bisec(f::Function, x1::Number, x2::Number, e::AbstractFloat=1e-7, max::Integer=100)\n",
    "    fx1 = f(x1)\n",
    "    fx2 = f(x2)\n",
    "    fx1*fx2 <= 0 || error(\"The functions do not have a real root solution.\")\n",
    "    iter = 0\n",
    "    local valor\n",
    "    while x2 - x1 > e\n",
    "        iter += 1\n",
    "        iter != max \n",
    "        valor = (x2+x1)/2\n",
    "        fvalor = f(valor)\n",
    "        if fvalor == 0 \n",
    "            break\n",
    "        elseif fx1*fvalor > 0 \n",
    "            x1 = valor\n",
    "            fx1 = fvalor\n",
    "        else \n",
    "            x2 = valor\n",
    "        end\n",
    "    end\n",
    "    return valor\n",
    "end"
   ]
  },
  {
   "cell_type": "code",
   "execution_count": 3,
   "id": "78321dde-088b-40fe-a908-844da4311292",
   "metadata": {},
   "outputs": [
    {
     "data": {
      "text/plain": [
       "1.4142135977745056"
      ]
     },
     "execution_count": 3,
     "metadata": {},
     "output_type": "execute_result"
    }
   ],
   "source": [
    "bisec(x -> x^2-2,0,2)"
   ]
  },
  {
   "cell_type": "code",
   "execution_count": 4,
   "id": "1be4f374-c9b5-4924-b48a-c894fd9474d7",
   "metadata": {},
   "outputs": [
    {
     "data": {
      "image/svg+xml": [
       "<?xml version=\"1.0\" encoding=\"utf-8\"?>\n",
       "<svg xmlns=\"http://www.w3.org/2000/svg\" xmlns:xlink=\"http://www.w3.org/1999/xlink\" width=\"600\" height=\"400\" viewBox=\"0 0 2400 1600\">\n",
       "<defs>\n",
       "  <clipPath id=\"clip170\">\n",
       "    <rect x=\"0\" y=\"0\" width=\"2400\" height=\"1600\"/>\n",
       "  </clipPath>\n",
       "</defs>\n",
       "<path clip-path=\"url(#clip170)\" d=\"\n",
       "M0 1600 L2400 1600 L2400 0 L0 0  Z\n",
       "  \" fill=\"#ffffff\" fill-rule=\"evenodd\" fill-opacity=\"1\"/>\n",
       "<defs>\n",
       "  <clipPath id=\"clip171\">\n",
       "    <rect x=\"480\" y=\"0\" width=\"1681\" height=\"1600\"/>\n",
       "  </clipPath>\n",
       "</defs>\n",
       "<path clip-path=\"url(#clip170)\" d=\"\n",
       "M147.478 1486.45 L2352.76 1486.45 L2352.76 47.2441 L147.478 47.2441  Z\n",
       "  \" fill=\"#ffffff\" fill-rule=\"evenodd\" fill-opacity=\"1\"/>\n",
       "<defs>\n",
       "  <clipPath id=\"clip172\">\n",
       "    <rect x=\"147\" y=\"47\" width=\"2206\" height=\"1440\"/>\n",
       "  </clipPath>\n",
       "</defs>\n",
       "<polyline clip-path=\"url(#clip172)\" style=\"stroke:#000000; stroke-linecap:butt; stroke-linejoin:round; stroke-width:2; stroke-opacity:0.1; fill:none\" points=\"\n",
       "  209.891,1486.45 209.891,47.2441 \n",
       "  \"/>\n",
       "<polyline clip-path=\"url(#clip172)\" style=\"stroke:#000000; stroke-linecap:butt; stroke-linejoin:round; stroke-width:2; stroke-opacity:0.1; fill:none\" points=\"\n",
       "  730.004,1486.45 730.004,47.2441 \n",
       "  \"/>\n",
       "<polyline clip-path=\"url(#clip172)\" style=\"stroke:#000000; stroke-linecap:butt; stroke-linejoin:round; stroke-width:2; stroke-opacity:0.1; fill:none\" points=\"\n",
       "  1250.12,1486.45 1250.12,47.2441 \n",
       "  \"/>\n",
       "<polyline clip-path=\"url(#clip172)\" style=\"stroke:#000000; stroke-linecap:butt; stroke-linejoin:round; stroke-width:2; stroke-opacity:0.1; fill:none\" points=\"\n",
       "  1770.23,1486.45 1770.23,47.2441 \n",
       "  \"/>\n",
       "<polyline clip-path=\"url(#clip172)\" style=\"stroke:#000000; stroke-linecap:butt; stroke-linejoin:round; stroke-width:2; stroke-opacity:0.1; fill:none\" points=\"\n",
       "  2290.34,1486.45 2290.34,47.2441 \n",
       "  \"/>\n",
       "<polyline clip-path=\"url(#clip170)\" style=\"stroke:#000000; stroke-linecap:butt; stroke-linejoin:round; stroke-width:4; stroke-opacity:1; fill:none\" points=\"\n",
       "  147.478,1486.45 2352.76,1486.45 \n",
       "  \"/>\n",
       "<polyline clip-path=\"url(#clip170)\" style=\"stroke:#000000; stroke-linecap:butt; stroke-linejoin:round; stroke-width:4; stroke-opacity:1; fill:none\" points=\"\n",
       "  209.891,1486.45 209.891,1467.55 \n",
       "  \"/>\n",
       "<polyline clip-path=\"url(#clip170)\" style=\"stroke:#000000; stroke-linecap:butt; stroke-linejoin:round; stroke-width:4; stroke-opacity:1; fill:none\" points=\"\n",
       "  730.004,1486.45 730.004,1467.55 \n",
       "  \"/>\n",
       "<polyline clip-path=\"url(#clip170)\" style=\"stroke:#000000; stroke-linecap:butt; stroke-linejoin:round; stroke-width:4; stroke-opacity:1; fill:none\" points=\"\n",
       "  1250.12,1486.45 1250.12,1467.55 \n",
       "  \"/>\n",
       "<polyline clip-path=\"url(#clip170)\" style=\"stroke:#000000; stroke-linecap:butt; stroke-linejoin:round; stroke-width:4; stroke-opacity:1; fill:none\" points=\"\n",
       "  1770.23,1486.45 1770.23,1467.55 \n",
       "  \"/>\n",
       "<polyline clip-path=\"url(#clip170)\" style=\"stroke:#000000; stroke-linecap:butt; stroke-linejoin:round; stroke-width:4; stroke-opacity:1; fill:none\" points=\"\n",
       "  2290.34,1486.45 2290.34,1467.55 \n",
       "  \"/>\n",
       "<path clip-path=\"url(#clip170)\" d=\"M187.276 1517.37 Q183.665 1517.37 181.836 1520.93 Q180.03 1524.47 180.03 1531.6 Q180.03 1538.71 181.836 1542.27 Q183.665 1545.82 187.276 1545.82 Q190.91 1545.82 192.716 1542.27 Q194.544 1538.71 194.544 1531.6 Q194.544 1524.47 192.716 1520.93 Q190.91 1517.37 187.276 1517.37 M187.276 1513.66 Q193.086 1513.66 196.142 1518.27 Q199.22 1522.85 199.22 1531.6 Q199.22 1540.33 196.142 1544.94 Q193.086 1549.52 187.276 1549.52 Q181.466 1549.52 178.387 1544.94 Q175.331 1540.33 175.331 1531.6 Q175.331 1522.85 178.387 1518.27 Q181.466 1513.66 187.276 1513.66 Z\" fill=\"#000000\" fill-rule=\"evenodd\" fill-opacity=\"1\" /><path clip-path=\"url(#clip170)\" d=\"M207.438 1542.97 L212.322 1542.97 L212.322 1548.85 L207.438 1548.85 L207.438 1542.97 Z\" fill=\"#000000\" fill-rule=\"evenodd\" fill-opacity=\"1\" /><path clip-path=\"url(#clip170)\" d=\"M232.507 1517.37 Q228.896 1517.37 227.067 1520.93 Q225.262 1524.47 225.262 1531.6 Q225.262 1538.71 227.067 1542.27 Q228.896 1545.82 232.507 1545.82 Q236.141 1545.82 237.947 1542.27 Q239.776 1538.71 239.776 1531.6 Q239.776 1524.47 237.947 1520.93 Q236.141 1517.37 232.507 1517.37 M232.507 1513.66 Q238.317 1513.66 241.373 1518.27 Q244.451 1522.85 244.451 1531.6 Q244.451 1540.33 241.373 1544.94 Q238.317 1549.52 232.507 1549.52 Q226.697 1549.52 223.618 1544.94 Q220.563 1540.33 220.563 1531.6 Q220.563 1522.85 223.618 1518.27 Q226.697 1513.66 232.507 1513.66 Z\" fill=\"#000000\" fill-rule=\"evenodd\" fill-opacity=\"1\" /><path clip-path=\"url(#clip170)\" d=\"M707.886 1517.37 Q704.275 1517.37 702.446 1520.93 Q700.641 1524.47 700.641 1531.6 Q700.641 1538.71 702.446 1542.27 Q704.275 1545.82 707.886 1545.82 Q711.52 1545.82 713.326 1542.27 Q715.155 1538.71 715.155 1531.6 Q715.155 1524.47 713.326 1520.93 Q711.52 1517.37 707.886 1517.37 M707.886 1513.66 Q713.696 1513.66 716.752 1518.27 Q719.831 1522.85 719.831 1531.6 Q719.831 1540.33 716.752 1544.94 Q713.696 1549.52 707.886 1549.52 Q702.076 1549.52 698.997 1544.94 Q695.942 1540.33 695.942 1531.6 Q695.942 1522.85 698.997 1518.27 Q702.076 1513.66 707.886 1513.66 Z\" fill=\"#000000\" fill-rule=\"evenodd\" fill-opacity=\"1\" /><path clip-path=\"url(#clip170)\" d=\"M728.048 1542.97 L732.932 1542.97 L732.932 1548.85 L728.048 1548.85 L728.048 1542.97 Z\" fill=\"#000000\" fill-rule=\"evenodd\" fill-opacity=\"1\" /><path clip-path=\"url(#clip170)\" d=\"M743.164 1514.29 L761.52 1514.29 L761.52 1518.22 L747.446 1518.22 L747.446 1526.7 Q748.465 1526.35 749.483 1526.19 Q750.502 1526 751.52 1526 Q757.307 1526 760.687 1529.17 Q764.066 1532.34 764.066 1537.76 Q764.066 1543.34 760.594 1546.44 Q757.122 1549.52 750.803 1549.52 Q748.627 1549.52 746.358 1549.15 Q744.113 1548.78 741.706 1548.04 L741.706 1543.34 Q743.789 1544.47 746.011 1545.03 Q748.233 1545.58 750.71 1545.58 Q754.715 1545.58 757.053 1543.48 Q759.391 1541.37 759.391 1537.76 Q759.391 1534.15 757.053 1532.04 Q754.715 1529.94 750.71 1529.94 Q748.835 1529.94 746.96 1530.35 Q745.108 1530.77 743.164 1531.65 L743.164 1514.29 Z\" fill=\"#000000\" fill-rule=\"evenodd\" fill-opacity=\"1\" /><path clip-path=\"url(#clip170)\" d=\"M1217.27 1544.91 L1224.91 1544.91 L1224.91 1518.55 L1216.6 1520.21 L1216.6 1515.95 L1224.86 1514.29 L1229.54 1514.29 L1229.54 1544.91 L1237.18 1544.91 L1237.18 1548.85 L1217.27 1548.85 L1217.27 1544.91 Z\" fill=\"#000000\" fill-rule=\"evenodd\" fill-opacity=\"1\" /><path clip-path=\"url(#clip170)\" d=\"M1246.62 1542.97 L1251.51 1542.97 L1251.51 1548.85 L1246.62 1548.85 L1246.62 1542.97 Z\" fill=\"#000000\" fill-rule=\"evenodd\" fill-opacity=\"1\" /><path clip-path=\"url(#clip170)\" d=\"M1271.69 1517.37 Q1268.08 1517.37 1266.25 1520.93 Q1264.45 1524.47 1264.45 1531.6 Q1264.45 1538.71 1266.25 1542.27 Q1268.08 1545.82 1271.69 1545.82 Q1275.33 1545.82 1277.13 1542.27 Q1278.96 1538.71 1278.96 1531.6 Q1278.96 1524.47 1277.13 1520.93 Q1275.33 1517.37 1271.69 1517.37 M1271.69 1513.66 Q1277.5 1513.66 1280.56 1518.27 Q1283.64 1522.85 1283.64 1531.6 Q1283.64 1540.33 1280.56 1544.94 Q1277.5 1549.52 1271.69 1549.52 Q1265.88 1549.52 1262.8 1544.94 Q1259.75 1540.33 1259.75 1531.6 Q1259.75 1522.85 1262.8 1518.27 Q1265.88 1513.66 1271.69 1513.66 Z\" fill=\"#000000\" fill-rule=\"evenodd\" fill-opacity=\"1\" /><path clip-path=\"url(#clip170)\" d=\"M1737.88 1544.91 L1745.52 1544.91 L1745.52 1518.55 L1737.21 1520.21 L1737.21 1515.95 L1745.47 1514.29 L1750.15 1514.29 L1750.15 1544.91 L1757.79 1544.91 L1757.79 1548.85 L1737.88 1548.85 L1737.88 1544.91 Z\" fill=\"#000000\" fill-rule=\"evenodd\" fill-opacity=\"1\" /><path clip-path=\"url(#clip170)\" d=\"M1767.23 1542.97 L1772.12 1542.97 L1772.12 1548.85 L1767.23 1548.85 L1767.23 1542.97 Z\" fill=\"#000000\" fill-rule=\"evenodd\" fill-opacity=\"1\" /><path clip-path=\"url(#clip170)\" d=\"M1782.35 1514.29 L1800.7 1514.29 L1800.7 1518.22 L1786.63 1518.22 L1786.63 1526.7 Q1787.65 1526.35 1788.67 1526.19 Q1789.69 1526 1790.7 1526 Q1796.49 1526 1799.87 1529.17 Q1803.25 1532.34 1803.25 1537.76 Q1803.25 1543.34 1799.78 1546.44 Q1796.31 1549.52 1789.99 1549.52 Q1787.81 1549.52 1785.54 1549.15 Q1783.3 1548.78 1780.89 1548.04 L1780.89 1543.34 Q1782.97 1544.47 1785.19 1545.03 Q1787.42 1545.58 1789.89 1545.58 Q1793.9 1545.58 1796.24 1543.48 Q1798.57 1541.37 1798.57 1537.76 Q1798.57 1534.15 1796.24 1532.04 Q1793.9 1529.94 1789.89 1529.94 Q1788.02 1529.94 1786.14 1530.35 Q1784.29 1530.77 1782.35 1531.65 L1782.35 1514.29 Z\" fill=\"#000000\" fill-rule=\"evenodd\" fill-opacity=\"1\" /><path clip-path=\"url(#clip170)\" d=\"M2261.58 1544.91 L2277.9 1544.91 L2277.9 1548.85 L2255.96 1548.85 L2255.96 1544.91 Q2258.62 1542.16 2263.2 1537.53 Q2267.81 1532.88 2268.99 1531.53 Q2271.23 1529.01 2272.11 1527.27 Q2273.02 1525.51 2273.02 1523.82 Q2273.02 1521.07 2271.07 1519.33 Q2269.15 1517.6 2266.05 1517.6 Q2263.85 1517.6 2261.4 1518.36 Q2258.97 1519.13 2256.19 1520.68 L2256.19 1515.95 Q2259.01 1514.82 2261.47 1514.24 Q2263.92 1513.66 2265.96 1513.66 Q2271.33 1513.66 2274.52 1516.35 Q2277.72 1519.03 2277.72 1523.52 Q2277.72 1525.65 2276.9 1527.57 Q2276.12 1529.47 2274.01 1532.07 Q2273.43 1532.74 2270.33 1535.95 Q2267.23 1539.15 2261.58 1544.91 Z\" fill=\"#000000\" fill-rule=\"evenodd\" fill-opacity=\"1\" /><path clip-path=\"url(#clip170)\" d=\"M2287.72 1542.97 L2292.6 1542.97 L2292.6 1548.85 L2287.72 1548.85 L2287.72 1542.97 Z\" fill=\"#000000\" fill-rule=\"evenodd\" fill-opacity=\"1\" /><path clip-path=\"url(#clip170)\" d=\"M2312.78 1517.37 Q2309.17 1517.37 2307.34 1520.93 Q2305.54 1524.47 2305.54 1531.6 Q2305.54 1538.71 2307.34 1542.27 Q2309.17 1545.82 2312.78 1545.82 Q2316.42 1545.82 2318.22 1542.27 Q2320.05 1538.71 2320.05 1531.6 Q2320.05 1524.47 2318.22 1520.93 Q2316.42 1517.37 2312.78 1517.37 M2312.78 1513.66 Q2318.59 1513.66 2321.65 1518.27 Q2324.73 1522.85 2324.73 1531.6 Q2324.73 1540.33 2321.65 1544.94 Q2318.59 1549.52 2312.78 1549.52 Q2306.97 1549.52 2303.9 1544.94 Q2300.84 1540.33 2300.84 1531.6 Q2300.84 1522.85 2303.9 1518.27 Q2306.97 1513.66 2312.78 1513.66 Z\" fill=\"#000000\" fill-rule=\"evenodd\" fill-opacity=\"1\" /><polyline clip-path=\"url(#clip172)\" style=\"stroke:#000000; stroke-linecap:butt; stroke-linejoin:round; stroke-width:2; stroke-opacity:0.1; fill:none\" points=\"\n",
       "  147.478,1445.72 2352.76,1445.72 \n",
       "  \"/>\n",
       "<polyline clip-path=\"url(#clip172)\" style=\"stroke:#000000; stroke-linecap:butt; stroke-linejoin:round; stroke-width:2; stroke-opacity:0.1; fill:none\" points=\"\n",
       "  147.478,1106.28 2352.76,1106.28 \n",
       "  \"/>\n",
       "<polyline clip-path=\"url(#clip172)\" style=\"stroke:#000000; stroke-linecap:butt; stroke-linejoin:round; stroke-width:2; stroke-opacity:0.1; fill:none\" points=\"\n",
       "  147.478,766.846 2352.76,766.846 \n",
       "  \"/>\n",
       "<polyline clip-path=\"url(#clip172)\" style=\"stroke:#000000; stroke-linecap:butt; stroke-linejoin:round; stroke-width:2; stroke-opacity:0.1; fill:none\" points=\"\n",
       "  147.478,427.411 2352.76,427.411 \n",
       "  \"/>\n",
       "<polyline clip-path=\"url(#clip172)\" style=\"stroke:#000000; stroke-linecap:butt; stroke-linejoin:round; stroke-width:2; stroke-opacity:0.1; fill:none\" points=\"\n",
       "  147.478,87.9763 2352.76,87.9763 \n",
       "  \"/>\n",
       "<polyline clip-path=\"url(#clip170)\" style=\"stroke:#000000; stroke-linecap:butt; stroke-linejoin:round; stroke-width:4; stroke-opacity:1; fill:none\" points=\"\n",
       "  147.478,1486.45 147.478,47.2441 \n",
       "  \"/>\n",
       "<polyline clip-path=\"url(#clip170)\" style=\"stroke:#000000; stroke-linecap:butt; stroke-linejoin:round; stroke-width:4; stroke-opacity:1; fill:none\" points=\"\n",
       "  147.478,1445.72 166.376,1445.72 \n",
       "  \"/>\n",
       "<polyline clip-path=\"url(#clip170)\" style=\"stroke:#000000; stroke-linecap:butt; stroke-linejoin:round; stroke-width:4; stroke-opacity:1; fill:none\" points=\"\n",
       "  147.478,1106.28 166.376,1106.28 \n",
       "  \"/>\n",
       "<polyline clip-path=\"url(#clip170)\" style=\"stroke:#000000; stroke-linecap:butt; stroke-linejoin:round; stroke-width:4; stroke-opacity:1; fill:none\" points=\"\n",
       "  147.478,766.846 166.376,766.846 \n",
       "  \"/>\n",
       "<polyline clip-path=\"url(#clip170)\" style=\"stroke:#000000; stroke-linecap:butt; stroke-linejoin:round; stroke-width:4; stroke-opacity:1; fill:none\" points=\"\n",
       "  147.478,427.411 166.376,427.411 \n",
       "  \"/>\n",
       "<polyline clip-path=\"url(#clip170)\" style=\"stroke:#000000; stroke-linecap:butt; stroke-linejoin:round; stroke-width:4; stroke-opacity:1; fill:none\" points=\"\n",
       "  147.478,87.9763 166.376,87.9763 \n",
       "  \"/>\n",
       "<path clip-path=\"url(#clip170)\" d=\"M51.3625 1446.17 L81.0383 1446.17 L81.0383 1450.1 L51.3625 1450.1 L51.3625 1446.17 Z\" fill=\"#000000\" fill-rule=\"evenodd\" fill-opacity=\"1\" /><path clip-path=\"url(#clip170)\" d=\"M95.1586 1459.06 L111.478 1459.06 L111.478 1463 L89.5336 1463 L89.5336 1459.06 Q92.1956 1456.31 96.7789 1451.68 Q101.385 1447.02 102.566 1445.68 Q104.811 1443.16 105.691 1441.42 Q106.594 1439.66 106.594 1437.97 Q106.594 1435.22 104.649 1433.48 Q102.728 1431.75 99.6261 1431.75 Q97.4271 1431.75 94.9734 1432.51 Q92.5428 1433.27 89.7651 1434.82 L89.7651 1430.1 Q92.5891 1428.97 95.0428 1428.39 Q97.4965 1427.81 99.5335 1427.81 Q104.904 1427.81 108.098 1430.5 Q111.293 1433.18 111.293 1437.67 Q111.293 1439.8 110.483 1441.72 Q109.696 1443.62 107.589 1446.21 Q107.01 1446.88 103.909 1450.1 Q100.807 1453.3 95.1586 1459.06 Z\" fill=\"#000000\" fill-rule=\"evenodd\" fill-opacity=\"1\" /><path clip-path=\"url(#clip170)\" d=\"M50.9921 1106.73 L80.6679 1106.73 L80.6679 1110.67 L50.9921 1110.67 L50.9921 1106.73 Z\" fill=\"#000000\" fill-rule=\"evenodd\" fill-opacity=\"1\" /><path clip-path=\"url(#clip170)\" d=\"M91.5706 1119.63 L99.2095 1119.63 L99.2095 1093.26 L90.8993 1094.93 L90.8993 1090.67 L99.1632 1089 L103.839 1089 L103.839 1119.63 L111.478 1119.63 L111.478 1123.56 L91.5706 1123.56 L91.5706 1119.63 Z\" fill=\"#000000\" fill-rule=\"evenodd\" fill-opacity=\"1\" /><path clip-path=\"url(#clip170)\" d=\"M99.5335 752.645 Q95.9224 752.645 94.0937 756.209 Q92.2882 759.751 92.2882 766.881 Q92.2882 773.987 94.0937 777.552 Q95.9224 781.094 99.5335 781.094 Q103.168 781.094 104.973 777.552 Q106.802 773.987 106.802 766.881 Q106.802 759.751 104.973 756.209 Q103.168 752.645 99.5335 752.645 M99.5335 748.941 Q105.344 748.941 108.399 753.547 Q111.478 758.131 111.478 766.881 Q111.478 775.608 108.399 780.214 Q105.344 784.797 99.5335 784.797 Q93.7234 784.797 90.6447 780.214 Q87.5892 775.608 87.5892 766.881 Q87.5892 758.131 90.6447 753.547 Q93.7234 748.941 99.5335 748.941 Z\" fill=\"#000000\" fill-rule=\"evenodd\" fill-opacity=\"1\" /><path clip-path=\"url(#clip170)\" d=\"M91.5706 440.756 L99.2095 440.756 L99.2095 414.39 L90.8993 416.057 L90.8993 411.798 L99.1632 410.131 L103.839 410.131 L103.839 440.756 L111.478 440.756 L111.478 444.691 L91.5706 444.691 L91.5706 440.756 Z\" fill=\"#000000\" fill-rule=\"evenodd\" fill-opacity=\"1\" /><path clip-path=\"url(#clip170)\" d=\"M95.1586 101.321 L111.478 101.321 L111.478 105.256 L89.5336 105.256 L89.5336 101.321 Q92.1956 98.5665 96.7789 93.9369 Q101.385 89.2841 102.566 87.9416 Q104.811 85.4184 105.691 83.6823 Q106.594 81.9231 106.594 80.2333 Q106.594 77.4786 104.649 75.7425 Q102.728 74.0064 99.6261 74.0064 Q97.4271 74.0064 94.9734 74.7703 Q92.5428 75.5342 89.7651 77.0851 L89.7651 72.3629 Q92.5891 71.2287 95.0428 70.65 Q97.4965 70.0713 99.5335 70.0713 Q104.904 70.0713 108.098 72.7565 Q111.293 75.4416 111.293 79.9323 Q111.293 82.062 110.483 83.9832 Q109.696 85.8814 107.589 88.474 Q107.01 89.1453 103.909 92.3628 Q100.807 95.5573 95.1586 101.321 Z\" fill=\"#000000\" fill-rule=\"evenodd\" fill-opacity=\"1\" /><polyline clip-path=\"url(#clip172)\" style=\"stroke:#009af9; stroke-linecap:butt; stroke-linejoin:round; stroke-width:4; stroke-opacity:1; fill:none\" points=\"\n",
       "  209.891,1445.72 216.664,1445.7 223.436,1445.66 286.057,1443.9 348.678,1439.67 386.311,1435.95 423.943,1431.34 455.761,1426.75 487.579,1421.53 556.705,1407.99 \n",
       "  620.434,1392.84 688.757,1373.78 767.917,1348.03 838.264,1321.85 899.953,1296.34 967.21,1265.8 1034.87,1232.22 1109.67,1191.75 1180.84,1149.99 1254.85,1103.19 \n",
       "  1317.14,1061.13 1393.2,1006.48 1462.87,953.236 1527.22,901.354 1592.4,846.151 1665.45,781.116 1731.64,719.293 1807.43,645.133 1877.61,573.255 1946.79,499.368 \n",
       "  2013.96,424.756 2048.39,385.415 2082.82,345.331 2120.54,300.56 2158.27,254.896 2213.06,186.972 2267.86,117.164 2279.1,102.61 2290.34,87.9763 \n",
       "  \"/>\n",
       "<path clip-path=\"url(#clip170)\" d=\"\n",
       "M1981.79 198.898 L2279.25 198.898 L2279.25 95.2176 L1981.79 95.2176  Z\n",
       "  \" fill=\"#ffffff\" fill-rule=\"evenodd\" fill-opacity=\"1\"/>\n",
       "<polyline clip-path=\"url(#clip170)\" style=\"stroke:#000000; stroke-linecap:butt; stroke-linejoin:round; stroke-width:4; stroke-opacity:1; fill:none\" points=\"\n",
       "  1981.79,198.898 2279.25,198.898 2279.25,95.2176 1981.79,95.2176 1981.79,198.898 \n",
       "  \"/>\n",
       "<polyline clip-path=\"url(#clip170)\" style=\"stroke:#009af9; stroke-linecap:butt; stroke-linejoin:round; stroke-width:4; stroke-opacity:1; fill:none\" points=\"\n",
       "  2006.29,147.058 2153.31,147.058 \n",
       "  \"/>\n",
       "<path clip-path=\"url(#clip170)\" d=\"M2191.65 166.745 Q2189.85 171.375 2188.13 172.787 Q2186.42 174.199 2183.55 174.199 L2180.15 174.199 L2180.15 170.634 L2182.65 170.634 Q2184.41 170.634 2185.38 169.8 Q2186.35 168.967 2187.53 165.865 L2188.3 163.921 L2177.81 138.412 L2182.32 138.412 L2190.43 158.689 L2198.53 138.412 L2203.04 138.412 L2191.65 166.745 Z\" fill=\"#000000\" fill-rule=\"evenodd\" fill-opacity=\"1\" /><path clip-path=\"url(#clip170)\" d=\"M2210.33 160.402 L2217.97 160.402 L2217.97 134.037 L2209.66 135.703 L2209.66 131.444 L2217.93 129.778 L2222.6 129.778 L2222.6 160.402 L2230.24 160.402 L2230.24 164.338 L2210.33 164.338 L2210.33 160.402 Z\" fill=\"#000000\" fill-rule=\"evenodd\" fill-opacity=\"1\" /></svg>\n"
      ]
     },
     "execution_count": 4,
     "metadata": {},
     "output_type": "execute_result"
    }
   ],
   "source": [
    "f(x) = x^2-2\n",
    "plot(f, 0, 2) \t"
   ]
  },
  {
   "cell_type": "code",
   "execution_count": null,
   "id": "27498a05-577c-4891-bae7-cf4ddc8603be",
   "metadata": {},
   "outputs": [],
   "source": []
  }
 ],
 "metadata": {
  "kernelspec": {
   "display_name": "Julia 1.7.0",
   "language": "julia",
   "name": "julia-1.7"
  },
  "language_info": {
   "file_extension": ".jl",
   "mimetype": "application/julia",
   "name": "julia",
   "version": "1.7.0"
  }
 },
 "nbformat": 4,
 "nbformat_minor": 5
}
