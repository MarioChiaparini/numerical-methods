{
 "cells": [
  {
   "cell_type": "markdown",
   "id": "eb328270-914e-48a2-af2d-c33f9877abcd",
   "metadata": {},
   "source": [
    "## Root Finding - Secant Method"
   ]
  },
  {
   "cell_type": "code",
   "execution_count": 22,
   "id": "91a3815a-cc30-4af5-8b36-430a43da0d38",
   "metadata": {},
   "outputs": [],
   "source": [
    "using MTH229\n",
    "using Plots \n",
    "using Printf"
   ]
  },
  {
   "cell_type": "code",
   "execution_count": 32,
   "id": "3d72d8df-360d-49e8-b311-d05ecc89e535",
   "metadata": {},
   "outputs": [
    {
     "data": {
      "text/plain": [
       "secant (generic function with 2 methods)"
      ]
     },
     "execution_count": 32,
     "metadata": {},
     "output_type": "execute_result"
    }
   ],
   "source": [
    "function secant(f::Function, x1::Number, x2::Number, maxiter::Integer=100)\n",
    "    fx1 = f(x1)\n",
    "    fx2 = f(x2)\n",
    "    \n",
    "    if fx2*fx1 >= 0\n",
    "        return nothing\n",
    "    end \n",
    "    iter = 0\n",
    "    \n",
    "    while iter < maxiter\n",
    "        \n",
    "        iter += 1\n",
    "        xk = x1 - f(x1)*(x2 - x1)/(f(x1) - f(x2))\n",
    "        fxk = f(xk)\n",
    "        \n",
    "        if fx1*fxk < 0\n",
    "            x1 = x1\n",
    "            x2 = xk  \n",
    "        \n",
    "        elseif fx2*fxk < 0\n",
    "            x1 = xk\n",
    "            x2 = x2\n",
    "        \n",
    "        elseif fxk == 0\n",
    "            return xk \n",
    "        \n",
    "        else \n",
    "            return nothing\n",
    "        end \n",
    "    end\n",
    "    return x1 - f(x1)*(x2 - x1)/(f(x2) - f(x1))\n",
    "end"
   ]
  },
  {
   "cell_type": "code",
   "execution_count": 33,
   "id": "fb2d89bc-ff8a-489e-afb6-2ef65afca79d",
   "metadata": {},
   "outputs": [
    {
     "data": {
      "text/plain": [
       "f (generic function with 1 method)"
      ]
     },
     "execution_count": 33,
     "metadata": {},
     "output_type": "execute_result"
    }
   ],
   "source": [
    "f(x) = x^3 + x^2 -1"
   ]
  },
  {
   "cell_type": "code",
   "execution_count": 37,
   "id": "f569a21e-71e7-4ec2-a5be-0dc8265eab6f",
   "metadata": {},
   "outputs": [
    {
     "data": {
      "text/plain": [
       "0.0"
      ]
     },
     "execution_count": 37,
     "metadata": {},
     "output_type": "execute_result"
    }
   ],
   "source": [
    "secant(f,-2,2)"
   ]
  },
  {
   "cell_type": "code",
   "execution_count": null,
   "id": "45685012-dba7-4ad9-a5a8-734034176c95",
   "metadata": {},
   "outputs": [],
   "source": []
  },
  {
   "cell_type": "code",
   "execution_count": null,
   "id": "5895fd9b-564f-4237-b61c-6b19ab63e654",
   "metadata": {},
   "outputs": [],
   "source": []
  }
 ],
 "metadata": {
  "kernelspec": {
   "display_name": "Julia 1.7.0",
   "language": "julia",
   "name": "julia-1.7"
  },
  "language_info": {
   "file_extension": ".jl",
   "mimetype": "application/julia",
   "name": "julia",
   "version": "1.7.0"
  }
 },
 "nbformat": 4,
 "nbformat_minor": 5
}
