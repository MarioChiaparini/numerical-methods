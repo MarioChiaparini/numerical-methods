{
 "cells": [
  {
   "cell_type": "code",
   "execution_count": null,
   "id": "889f0606-77e3-4d1a-9275-80469b0952e6",
   "metadata": {},
   "outputs": [],
   "source": []
  }
 ],
 "metadata": {
  "kernelspec": {
   "display_name": "Julia 1.7.0",
   "language": "julia",
   "name": "julia-1.7"
  },
  "language_info": {
   "file_extension": ".jl",
   "mimetype": "application/julia",
   "name": "julia",
   "version": "1.7.0"
  }
 },
 "nbformat": 4,
 "nbformat_minor": 5
}
