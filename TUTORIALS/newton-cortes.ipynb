{
 "cells": [
  {
   "cell_type": "markdown",
   "id": "391d4eea-5952-494c-ac08-455cfa9622c8",
   "metadata": {
    "tags": []
   },
   "source": [
    "## Numerical Integration - Newton-Cotes Method"
   ]
  },
  {
   "cell_type": "code",
   "execution_count": 1,
   "id": "d6f00d7f-d635-4b2c-87ed-7394160ae822",
   "metadata": {},
   "outputs": [],
   "source": [
    "using MTH229\n",
    "using Plots\n",
    "using Printf\n",
    "using SymPy"
   ]
  },
  {
   "cell_type": "code",
   "execution_count": 2,
   "id": "573d9ca8-7bb6-4c82-9a27-c5377487cd5f",
   "metadata": {},
   "outputs": [
    {
     "ename": "LoadError",
     "evalue": "syntax: line break in \":\" expression",
     "output_type": "error",
     "traceback": [
      "syntax: line break in \":\" expression",
      "",
      "Stacktrace:",
      " [1] top-level scope",
      "   @ In[2]:11",
      " [2] eval",
      "   @ ./boot.jl:373 [inlined]",
      " [3] include_string(mapexpr::typeof(REPL.softscope), mod::Module, code::String, filename::String)",
      "   @ Base ./loading.jl:1196"
     ]
    }
   ],
   "source": [
    "function cotes(f::Function, x1::Number, x2::Number, tol::AbstractFloat=1e-5)\n",
    "    h = (x1 - x2) / 6\n",
    "    if x1 > x2\n",
    "        x1 = x2\n",
    "        x2 = x1\n",
    "    end \n",
    "    p_result = 0\n",
    "    for i in 0:1\n",
    "        result = 0\n",
    "        for j in 0:\n",
    "            interpolation = abs(x1 - x2)/ i\n",
    "            result +=  h * (f(x1 + interpolation * j) + 4*f((x1 + interpolation * (j + 1) + x1 + interpolation * (j + 1)) / 2) + f(x1 + interpolation * (j + 1)))\n",
    "        if abs(result - p_result) < tol\n",
    "            return result\n",
    "            end \n",
    "        return p_result = result\n",
    "        end \n",
    "    end\n",
    "end "
   ]
  },
  {
   "cell_type": "code",
   "execution_count": null,
   "id": "1a81900e-032f-4d49-ab8c-7f8eb6dad403",
   "metadata": {},
   "outputs": [],
   "source": [
    "def integrate(function, a, b):\n",
    "    coeff = [7,32,12,32,7]\n",
    "    result = 0\n",
    "    for i in range(0,len(coeff)):\n",
    "        x = a + (i*(b-a))/(len(coeff)-1)\n",
    "        result += coeff[i]*function(x)\n",
    "        #print function(x)\n",
    "    result = result*((b-a)/90.)\n",
    "    return result\n",
    "\n",
    "def func(x):\n",
    "    return x**3-4*x+9\n",
    "            "
   ]
  },
  {
   "cell_type": "code",
   "execution_count": null,
   "id": "15b1292c-cdaa-4ce8-a427-5b6bc3972c3e",
   "metadata": {},
   "outputs": [],
   "source": [
    "function cotes(f::Function, x1::Number, x2::Number, tol::AbstractFloat=1e-5)\n",
    "    result = 0\n",
    "    for i in 0:"
   ]
  },
  {
   "cell_type": "code",
   "execution_count": 32,
   "id": "af302b18-5309-45b9-8907-4d6b089043b0",
   "metadata": {},
   "outputs": [
    {
     "data": {
      "text/plain": [
       "NaN"
      ]
     },
     "execution_count": 32,
     "metadata": {},
     "output_type": "execute_result"
    }
   ],
   "source": [
    "f(x) = e^x\n",
    "cotes(f, 0, 3)"
   ]
  },
  {
   "cell_type": "code",
   "execution_count": null,
   "id": "4a480ec5-9fc8-43d7-ad1a-b73e368fd753",
   "metadata": {},
   "outputs": [],
   "source": []
  }
 ],
 "metadata": {
  "kernelspec": {
   "display_name": "Julia 1.7.0",
   "language": "julia",
   "name": "julia-1.7"
  },
  "language_info": {
   "file_extension": ".jl",
   "mimetype": "application/julia",
   "name": "julia",
   "version": "1.7.0"
  }
 },
 "nbformat": 4,
 "nbformat_minor": 5
}
